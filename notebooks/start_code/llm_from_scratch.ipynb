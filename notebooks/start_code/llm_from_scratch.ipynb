{
 "cells": [
  {
   "cell_type": "code",
   "execution_count": 1,
   "metadata": {},
   "outputs": [],
   "source": [
    "import torch\n",
    "import torch.nn as nn\n",
    "import torch.nn.functional as F\n",
    "import torch.optim as optim"
   ]
  },
  {
   "cell_type": "markdown",
   "metadata": {},
   "source": [
    "<h2> Word Embeddings </h2>"
   ]
  },
  {
   "cell_type": "code",
   "execution_count": null,
   "metadata": {},
   "outputs": [],
   "source": []
  },
  {
   "cell_type": "markdown",
   "metadata": {},
   "source": [
    "<h2> Tokenization </h2>"
   ]
  },
  {
   "cell_type": "code",
   "execution_count": 2,
   "metadata": {},
   "outputs": [
    {
     "name": "stdout",
     "output_type": "stream",
     "text": [
      "['a', 'am', 'brown', 'doctor', 'dog', 'fox', 'i', 'jumps', 'lazy', 'over', 'programmer', 'quick', 'student', 'teacher', 'the']\n",
      "[[6, 1, 0, 12, 15, 15, 15, 15, 15], [6, 1, 0, 13, 15, 15, 15, 15, 15], [6, 1, 0, 3, 15, 15, 15, 15, 15], [6, 1, 0, 10, 15, 15, 15, 15, 15], [14, 11, 2, 5, 7, 9, 14, 8, 4]]\n",
      "9 [9, 9, 9, 9, 9]\n"
     ]
    }
   ],
   "source": [
    "class Tokenizer:\n",
    "\n",
    "    def __init__(self):\n",
    "\n",
    "        self.vocab = None\n",
    "        self.max_len = None\n",
    "        self.vocab_size = None\n",
    "\n",
    "    def preprocess(self, text):\n",
    "\n",
    "        # remove all non alphabetic characters\n",
    "        text = ''.join(e for e in text if e.isalnum() or e.isspace())\n",
    "\n",
    "        # convert to lowercase\n",
    "        text = text.lower()\n",
    "\n",
    "        return text\n",
    "\n",
    "    def generate_vocab(self, texts):\n",
    "\n",
    "        text_preprocessed = [self.preprocess(text) for text in texts]\n",
    "\n",
    "        self.max_len = max([len(seq.split()) for seq in text_preprocessed])\n",
    "\n",
    "        words = \" \".join(text_preprocessed).split()\n",
    "\n",
    "        vocab = list(set(words))\n",
    "\n",
    "        vocab.sort()\n",
    "\n",
    "        self.vocab = vocab\n",
    "\n",
    "        self.vocab_size = len(self.vocab) + 1\n",
    "    \n",
    "    def tokenize(self, texts):\n",
    "\n",
    "        total_tokens = []\n",
    "\n",
    "        for text in texts:\n",
    "    \n",
    "            text_preprocessed = self.preprocess(text)\n",
    "\n",
    "            words = text_preprocessed.split()\n",
    "\n",
    "            tokens = []\n",
    "\n",
    "            for word in words:\n",
    "                tokens.append(self.vocab.index(word))\n",
    "            \n",
    "            tokens += [self.vocab_size-1 for _ in range(self.max_len - len(tokens))]\n",
    "\n",
    "            total_tokens.append(tokens)\n",
    "\n",
    "        return total_tokens\n",
    "\n",
    "texts = [\n",
    "    \"I am a student\", \n",
    "    \"I am a teacher\", \n",
    "    \"I am a doctor\", \n",
    "    \"I am a programmer\", \n",
    "    \"The quick brown fox jumps over the lazy dog\"\n",
    "]\n",
    "\n",
    "tokenizer = Tokenizer()\n",
    "\n",
    "tokenizer.generate_vocab(texts)\n",
    "\n",
    "print(tokenizer.vocab)\n",
    "\n",
    "tokens = tokenizer.tokenize(texts)\n",
    "\n",
    "print(tokens)\n",
    "\n",
    "print(tokenizer.max_len, [len(t) for t in tokens])"
   ]
  },
  {
   "cell_type": "markdown",
   "metadata": {},
   "source": [
    "<h2> Embedding Layer </h2>"
   ]
  },
  {
   "cell_type": "code",
   "execution_count": 3,
   "metadata": {},
   "outputs": [
    {
     "name": "stdout",
     "output_type": "stream",
     "text": [
      "16\n",
      "[[6, 1, 0, 12, 15, 15, 15, 15, 15], [6, 1, 0, 13, 15, 15, 15, 15, 15], [6, 1, 0, 3, 15, 15, 15, 15, 15], [6, 1, 0, 10, 15, 15, 15, 15, 15], [14, 11, 2, 5, 7, 9, 14, 8, 4]]\n",
      "torch.Size([5, 9, 10])\n",
      "tensor([[[ 0.0106,  1.2411, -2.6844,  0.0131,  2.3664, -0.0717, -0.7049,\n",
      "          -0.0678, -0.1242, -0.8844],\n",
      "         [ 0.0547, -1.5059,  2.7215,  0.4497,  0.1850, -2.4192,  0.0839,\n",
      "           1.4410, -0.1154, -0.8272],\n",
      "         [ 0.0824, -1.0864, -0.7025,  0.8517,  2.0789, -0.5816, -0.3471,\n",
      "          -1.2114,  1.4058,  1.8791],\n",
      "         [ 0.1539, -1.4864, -1.6599,  0.2903, -1.1014, -0.3706,  0.7989,\n",
      "          -1.3750, -2.0872,  0.7195],\n",
      "         [ 1.2250, -0.3408,  0.9350,  0.7738, -0.4522,  0.6616,  1.2959,\n",
      "          -1.0623,  0.5177,  0.3947],\n",
      "         [ 1.2250, -0.3408,  0.9350,  0.7738, -0.4522,  0.6616,  1.2959,\n",
      "          -1.0623,  0.5177,  0.3947],\n",
      "         [ 1.2250, -0.3408,  0.9350,  0.7738, -0.4522,  0.6616,  1.2959,\n",
      "          -1.0623,  0.5177,  0.3947],\n",
      "         [ 1.2250, -0.3408,  0.9350,  0.7738, -0.4522,  0.6616,  1.2959,\n",
      "          -1.0623,  0.5177,  0.3947],\n",
      "         [ 1.2250, -0.3408,  0.9350,  0.7738, -0.4522,  0.6616,  1.2959,\n",
      "          -1.0623,  0.5177,  0.3947]],\n",
      "\n",
      "        [[ 0.0106,  1.2411, -2.6844,  0.0131,  2.3664, -0.0717, -0.7049,\n",
      "          -0.0678, -0.1242, -0.8844],\n",
      "         [ 0.0547, -1.5059,  2.7215,  0.4497,  0.1850, -2.4192,  0.0839,\n",
      "           1.4410, -0.1154, -0.8272],\n",
      "         [ 0.0824, -1.0864, -0.7025,  0.8517,  2.0789, -0.5816, -0.3471,\n",
      "          -1.2114,  1.4058,  1.8791],\n",
      "         [ 0.4122,  0.2746, -2.4193,  0.9051, -0.4839, -1.2879,  0.1807,\n",
      "           2.0051, -0.5853,  0.0283],\n",
      "         [ 1.2250, -0.3408,  0.9350,  0.7738, -0.4522,  0.6616,  1.2959,\n",
      "          -1.0623,  0.5177,  0.3947],\n",
      "         [ 1.2250, -0.3408,  0.9350,  0.7738, -0.4522,  0.6616,  1.2959,\n",
      "          -1.0623,  0.5177,  0.3947],\n",
      "         [ 1.2250, -0.3408,  0.9350,  0.7738, -0.4522,  0.6616,  1.2959,\n",
      "          -1.0623,  0.5177,  0.3947],\n",
      "         [ 1.2250, -0.3408,  0.9350,  0.7738, -0.4522,  0.6616,  1.2959,\n",
      "          -1.0623,  0.5177,  0.3947],\n",
      "         [ 1.2250, -0.3408,  0.9350,  0.7738, -0.4522,  0.6616,  1.2959,\n",
      "          -1.0623,  0.5177,  0.3947]],\n",
      "\n",
      "        [[ 0.0106,  1.2411, -2.6844,  0.0131,  2.3664, -0.0717, -0.7049,\n",
      "          -0.0678, -0.1242, -0.8844],\n",
      "         [ 0.0547, -1.5059,  2.7215,  0.4497,  0.1850, -2.4192,  0.0839,\n",
      "           1.4410, -0.1154, -0.8272],\n",
      "         [ 0.0824, -1.0864, -0.7025,  0.8517,  2.0789, -0.5816, -0.3471,\n",
      "          -1.2114,  1.4058,  1.8791],\n",
      "         [-0.4934, -0.7323,  0.3055,  0.6442, -0.4977,  0.3407,  1.5117,\n",
      "          -1.3874, -0.1158, -0.0998],\n",
      "         [ 1.2250, -0.3408,  0.9350,  0.7738, -0.4522,  0.6616,  1.2959,\n",
      "          -1.0623,  0.5177,  0.3947],\n",
      "         [ 1.2250, -0.3408,  0.9350,  0.7738, -0.4522,  0.6616,  1.2959,\n",
      "          -1.0623,  0.5177,  0.3947],\n",
      "         [ 1.2250, -0.3408,  0.9350,  0.7738, -0.4522,  0.6616,  1.2959,\n",
      "          -1.0623,  0.5177,  0.3947],\n",
      "         [ 1.2250, -0.3408,  0.9350,  0.7738, -0.4522,  0.6616,  1.2959,\n",
      "          -1.0623,  0.5177,  0.3947],\n",
      "         [ 1.2250, -0.3408,  0.9350,  0.7738, -0.4522,  0.6616,  1.2959,\n",
      "          -1.0623,  0.5177,  0.3947]],\n",
      "\n",
      "        [[ 0.0106,  1.2411, -2.6844,  0.0131,  2.3664, -0.0717, -0.7049,\n",
      "          -0.0678, -0.1242, -0.8844],\n",
      "         [ 0.0547, -1.5059,  2.7215,  0.4497,  0.1850, -2.4192,  0.0839,\n",
      "           1.4410, -0.1154, -0.8272],\n",
      "         [ 0.0824, -1.0864, -0.7025,  0.8517,  2.0789, -0.5816, -0.3471,\n",
      "          -1.2114,  1.4058,  1.8791],\n",
      "         [-1.0557, -0.1882,  1.1158,  1.0269,  2.4346,  0.8131, -1.3721,\n",
      "           0.3204,  0.6680,  1.6023],\n",
      "         [ 1.2250, -0.3408,  0.9350,  0.7738, -0.4522,  0.6616,  1.2959,\n",
      "          -1.0623,  0.5177,  0.3947],\n",
      "         [ 1.2250, -0.3408,  0.9350,  0.7738, -0.4522,  0.6616,  1.2959,\n",
      "          -1.0623,  0.5177,  0.3947],\n",
      "         [ 1.2250, -0.3408,  0.9350,  0.7738, -0.4522,  0.6616,  1.2959,\n",
      "          -1.0623,  0.5177,  0.3947],\n",
      "         [ 1.2250, -0.3408,  0.9350,  0.7738, -0.4522,  0.6616,  1.2959,\n",
      "          -1.0623,  0.5177,  0.3947],\n",
      "         [ 1.2250, -0.3408,  0.9350,  0.7738, -0.4522,  0.6616,  1.2959,\n",
      "          -1.0623,  0.5177,  0.3947]],\n",
      "\n",
      "        [[-0.7960, -0.2747,  0.8407, -0.0751,  1.2535, -0.6725,  0.1206,\n",
      "           0.2208,  1.9109,  0.9438],\n",
      "         [-0.9608,  0.4512, -0.9593,  1.0049, -0.3343, -0.1577,  0.1036,\n",
      "           1.1585,  0.6777, -0.1559],\n",
      "         [-0.2680,  1.8009,  0.3061, -2.3522, -1.4087, -0.9495,  0.5754,\n",
      "           1.4368, -0.5269,  1.3643],\n",
      "         [ 0.4077,  1.4292, -0.6113,  0.0478, -0.7888,  0.7421,  0.0948,\n",
      "          -0.3499, -0.9043, -1.3767],\n",
      "         [-0.4562, -0.4274, -0.0347,  0.2475, -0.3210, -0.6413, -1.9260,\n",
      "           0.3959,  1.1487, -0.1891],\n",
      "         [-2.6703,  0.2274,  0.3967, -1.4286,  0.1959,  0.0418, -0.3617,\n",
      "           0.0176,  0.6935, -0.7546],\n",
      "         [-0.7960, -0.2747,  0.8407, -0.0751,  1.2535, -0.6725,  0.1206,\n",
      "           0.2208,  1.9109,  0.9438],\n",
      "         [-0.1523, -0.5793, -1.7220,  0.1758, -0.8059, -0.3852, -0.6073,\n",
      "          -0.8008,  0.9839, -2.2116],\n",
      "         [-1.0102,  0.4233,  2.0978, -0.9063,  0.7104,  3.1941,  0.3615,\n",
      "           2.5157,  0.8180, -0.6063]]], grad_fn=<EmbeddingBackward0>)\n"
     ]
    }
   ],
   "source": [
    "class EmbeddingLayer(nn.Module):\n",
    "\n",
    "    def __init__(self, vocab_size, embedding_dim):\n",
    "        super().__init__()\n",
    "\n",
    "        self.embedding = nn.Embedding(vocab_size, embedding_dim)\n",
    "\n",
    "    def forward(self, x):\n",
    "\n",
    "        return self.embedding(x)\n",
    "    \n",
    "\n",
    "embedding_dim = 10\n",
    "\n",
    "print(tokenizer.vocab_size)\n",
    "print(tokens)\n",
    "\n",
    "embedding_layer = EmbeddingLayer(tokenizer.vocab_size, embedding_dim)\n",
    "\n",
    "tokens = torch.Tensor(tokens).long()\n",
    "\n",
    "embeddings = embedding_layer(tokens)\n",
    "\n",
    "print(embeddings.shape)\n",
    "print(embeddings)"
   ]
  },
  {
   "cell_type": "markdown",
   "metadata": {},
   "source": [
    "<h2> The Attention Layer </h2>"
   ]
  },
  {
   "cell_type": "code",
   "execution_count": 4,
   "metadata": {},
   "outputs": [
    {
     "data": {
      "text/plain": [
       "(torch.Size([5, 9, 10]), torch.Size([5, 9, 10]))"
      ]
     },
     "execution_count": 4,
     "metadata": {},
     "output_type": "execute_result"
    }
   ],
   "source": [
    "class Attention(nn.Module):\n",
    "\n",
    "    def __init__(self, d_model, head_size):\n",
    "        super().__init__()\n",
    "        \n",
    "        self.d_model = d_model\n",
    "        self.linear = nn.Linear(d_model, 3 * head_size)\n",
    "\n",
    "    def forward(self, x):\n",
    "\n",
    "        q, k, v = self.linear(x).chunk(3, dim=-1)\n",
    "\n",
    "        # attn = softmax(Q @ K.T) V\n",
    "        attn = torch.einsum(\"bnd,bkd->bnk\", q, k)\n",
    "        attn = attn / (self.d_model ** 0.5)\n",
    "        attn = F.softmax(attn, dim=-1)\n",
    "        attn = attn @ v\n",
    "\n",
    "        return attn\n",
    "    \n",
    "\n",
    "attention_layer = Attention(embedding_dim, embedding_dim)\n",
    "attn_logits = attention_layer(embeddings)\n",
    "embeddings.shape, attn_logits.shape"
   ]
  },
  {
   "cell_type": "code",
   "execution_count": 5,
   "metadata": {},
   "outputs": [
    {
     "data": {
      "text/plain": [
       "torch.Size([8, 16, 32])"
      ]
     },
     "execution_count": 5,
     "metadata": {},
     "output_type": "execute_result"
    }
   ],
   "source": [
    "# naive implementation of multi-head attention\n",
    "\n",
    "class MultiHeadAttention(nn.Module):\n",
    "\n",
    "    def __init__(self, d_model, n_heads):\n",
    "        super().__init__()\n",
    "        assert d_model % n_heads == 0, \"d_model must be divisible by n_heads\"\n",
    "\n",
    "        self.n_heads = n_heads\n",
    "        self.d_model = d_model\n",
    "        self.head_size = d_model // n_heads\n",
    "\n",
    "        self.heads = nn.ModuleList([Attention(self.d_model, self.head_size) for _ in range(n_heads)])\n",
    "\n",
    "    def forward(self, x):\n",
    "        return torch.cat([head(x) for head in self.heads], dim=-1)\n",
    "    \n",
    "d_model = 32\n",
    "n_heads = 4\n",
    "seq_len = 16\n",
    "batch_size = 8\n",
    "shifted_x = torch.randn(batch_size, seq_len, d_model)\n",
    "multi_head_attn = MultiHeadAttention(d_model, n_heads)\n",
    "attn_logits = multi_head_attn(shifted_x)\n",
    "attn_logits.shape"
   ]
  },
  {
   "cell_type": "code",
   "execution_count": 6,
   "metadata": {},
   "outputs": [
    {
     "data": {
      "text/plain": [
       "torch.Size([8, 16, 32])"
      ]
     },
     "execution_count": 6,
     "metadata": {},
     "output_type": "execute_result"
    }
   ],
   "source": [
    "# faster implementation of multi-head attention\n",
    "\n",
    "class MultiHeadAttention(nn.Module):\n",
    "\n",
    "    def __init__(self, d_model, n_heads):\n",
    "        super().__init__()\n",
    "        assert d_model % n_heads == 0, \"d_model must be divisible by n_heads\"\n",
    "\n",
    "        self.n_heads = n_heads\n",
    "        self.d_model = d_model\n",
    "        self.head_size = d_model // n_heads\n",
    "\n",
    "        self.qkv = nn.Linear(d_model, 3*d_model)\n",
    "        self.fc = nn.Linear(d_model, d_model)\n",
    "\n",
    "    def forward(self, x):\n",
    "        batch_size, seq_len, _ = x.shape\n",
    "            \n",
    "        qkv = self.qkv(x)\n",
    "        qkv = qkv.view(batch_size, seq_len, self.n_heads, 3*self.head_size)\n",
    "        qkv = qkv.permute(0, 2, 1, 3) # batch, n_heads, seq_len, 3 * head_size\n",
    "        q, k, v = qkv.chunk(3, dim=-1) # batch, n_heads, seq_len, head_size\n",
    "\n",
    "        # attn = softmax(Q @ K.T) V\n",
    "        attn = torch.einsum(\"bhid,bhjd->bhij\", q, k)\n",
    "        attn /= self.head_size ** 0.5\n",
    "        attn = F.softmax(attn, dim=-1)\n",
    "        attn = attn @ v\n",
    "        attn = attn.permute(0, 2, 1, 3).contiguous()\n",
    "        attn = attn.reshape(batch_size, seq_len, -1)\n",
    "\n",
    "        return self.fc(attn)\n",
    "\n",
    "d_model = 32\n",
    "n_heads = 4\n",
    "seq_len = 16\n",
    "batch_size = 8\n",
    "shifted_x = torch.randn(batch_size, seq_len, d_model)\n",
    "multi_head_attn = MultiHeadAttention(d_model, n_heads)\n",
    "attn_logits = multi_head_attn(shifted_x)\n",
    "attn_logits.shape\n"
   ]
  },
  {
   "cell_type": "code",
   "execution_count": 7,
   "metadata": {},
   "outputs": [
    {
     "data": {
      "text/plain": [
       "torch.Size([8, 16, 32])"
      ]
     },
     "execution_count": 7,
     "metadata": {},
     "output_type": "execute_result"
    }
   ],
   "source": [
    "# faster implementation of multi-head attention\n",
    "\n",
    "class MultiHeadAttention(nn.Module):\n",
    "\n",
    "    def __init__(self, d_model, n_heads):\n",
    "        super().__init__()\n",
    "        assert d_model % n_heads == 0, \"d_model must be divisible by n_heads\"\n",
    "\n",
    "        self.n_heads = n_heads\n",
    "        self.d_model = d_model\n",
    "        self.head_size = d_model // n_heads\n",
    "\n",
    "        self.qkv = nn.Linear(d_model, 3*d_model)\n",
    "        self.fc = nn.Linear(d_model, d_model)\n",
    "\n",
    "    def forward(self, x):\n",
    "        batch_size, seq_len, _ = x.shape\n",
    "            \n",
    "        qkv = self.qkv(x)\n",
    "        qkv = qkv.view(batch_size, seq_len, self.n_heads, 3*self.head_size)\n",
    "        qkv = qkv.permute(0, 2, 1, 3) # batch, n_heads, seq_len, 3 * head_size\n",
    "        q, k, v = qkv.chunk(3, dim=-1) # batch, n_heads, seq_len, head_size\n",
    "\n",
    "        # attn = softmax(Q @ K.T) V\n",
    "        attn = torch.einsum(\"bhid,bhjd->bhij\", q, k)\n",
    "        attn /= self.head_size ** 0.5\n",
    "        mask = torch.full((seq_len, seq_len), float('-inf')).to(x.device)\n",
    "        mask = torch.triu(mask, diagonal=1)\n",
    "        attn = attn + mask\n",
    "        attn = F.softmax(attn, dim=-1)\n",
    "        attn = attn @ v\n",
    "        attn = attn.permute(0, 2, 1, 3).contiguous()\n",
    "        attn = attn.reshape(batch_size, seq_len, -1)\n",
    "\n",
    "        return self.fc(attn)\n",
    "\n",
    "d_model = 32\n",
    "n_heads = 4\n",
    "seq_len = 16\n",
    "batch_size = 8\n",
    "shifted_x = torch.randn(batch_size, seq_len, d_model)\n",
    "multi_head_attn = MultiHeadAttention(d_model, n_heads)\n",
    "attn_logits = multi_head_attn(shifted_x)\n",
    "attn_logits.shape"
   ]
  },
  {
   "cell_type": "code",
   "execution_count": 8,
   "metadata": {},
   "outputs": [],
   "source": [
    "class AttentionBlock(nn.Module):\n",
    "\n",
    "    def __init__(self, d_model, n_heads):\n",
    "        super().__init__()\n",
    "\n",
    "        self.attn = MultiHeadAttention(d_model, n_heads)\n",
    "        self.norm1 = nn.LayerNorm(d_model)\n",
    "        self.norm2 = nn.LayerNorm(d_model)\n",
    "        self.dropout = nn.Dropout(0.1)\n",
    "        self.linear = nn.Linear(d_model, d_model)\n",
    "\n",
    "    def forward(self, x):\n",
    "        x = x + self.dropout(self.attn(self.norm1(x)))\n",
    "        x = x + self.linear(self.norm2(x))\n",
    "        return x"
   ]
  },
  {
   "cell_type": "code",
   "execution_count": 9,
   "metadata": {},
   "outputs": [],
   "source": [
    "class Transformer(nn.Module):\n",
    "\n",
    "    def __init__(self, vocab_size, d_model, n_heads, n_layers, block_size):\n",
    "        super().__init__()\n",
    "\n",
    "        self.embedding = nn.Embedding(vocab_size, d_model)\n",
    "        self.pos_embedding = nn.Embedding(block_size, d_model)\n",
    "        self.attention_blocks = nn.Sequential(*[AttentionBlock(d_model, n_heads) for _ in range(n_layers)])\n",
    "        self.fc = nn.Linear(d_model, vocab_size)\n",
    "\n",
    "    def forward(self, x):\n",
    "        # x size: (batch_size, seq_len)\n",
    "        x = self.embedding(x) # (batch_size, seq_len, d_model)\n",
    "        x = x + self.pos_embedding(torch.arange(x.size(1), device=x.device))\n",
    "        x = self.attention_blocks(x)\n",
    "        return self.fc(x)"
   ]
  },
  {
   "cell_type": "code",
   "execution_count": 10,
   "metadata": {},
   "outputs": [],
   "source": [
    "class GPT(nn.Module):\n",
    "\n",
    "    def __init__(self, vocab_size, d_model, n_heads, n_layers, block_size):\n",
    "        super().__init__()\n",
    "\n",
    "        self.transformer = Transformer(vocab_size, d_model, n_heads, n_layers, block_size)\n",
    "        self.loss_fn = nn.CrossEntropyLoss()\n",
    "\n",
    "    def forward(self, x, targets=None):\n",
    "        logits = self.transformer(x)\n",
    "        loss = None\n",
    "        if targets is not None:\n",
    "            loss = self.loss_fn(logits.view(-1, logits.size(-1)), targets.view(-1))\n",
    "        return logits, loss\n",
    "\n",
    "    def generate(self, x, steps=100, deterministic=False):\n",
    "        for _ in range(steps):\n",
    "            logits = self.transformer(x)\n",
    "            if deterministic:\n",
    "                next_token = torch.argmax(logits[:, -1], dim=-1).unsqueeze(-1)\n",
    "            else:\n",
    "                next_token = torch.multinomial(F.softmax(logits[:, -1], dim=-1), num_samples=1)\n",
    "            x = torch.cat([x, next_token], dim=-1)\n",
    "        return x"
   ]
  },
  {
   "cell_type": "code",
   "execution_count": 11,
   "metadata": {},
   "outputs": [
    {
     "name": "stderr",
     "output_type": "stream",
     "text": [
      "/Users/oskarjor/miniconda3/envs/start-code/lib/python3.10/site-packages/tqdm/auto.py:21: TqdmWarning: IProgress not found. Please update jupyter and ipywidgets. See https://ipywidgets.readthedocs.io/en/stable/user_install.html\n",
      "  from .autonotebook import tqdm as notebook_tqdm\n"
     ]
    }
   ],
   "source": [
    "from transformers import AutoTokenizer\n",
    "\n",
    "tokenizer = AutoTokenizer.from_pretrained(\"gpt2\")"
   ]
  },
  {
   "cell_type": "code",
   "execution_count": 12,
   "metadata": {},
   "outputs": [],
   "source": [
    "with open(\"input.txt\", \"r\") as f:\n",
    "    text = f.read()"
   ]
  },
  {
   "cell_type": "code",
   "execution_count": 13,
   "metadata": {},
   "outputs": [],
   "source": [
    "def get_batch(text, block_size):\n",
    "\n",
    "    tokens = tokenizer.encode(text)\n",
    "\n",
    "    for i in range(0, len(tokens) - block_size, block_size):\n",
    "        yield tokens[i:i+block_size], tokens[i+1:i+block_size+1]"
   ]
  },
  {
   "cell_type": "code",
   "execution_count": null,
   "metadata": {},
   "outputs": [
    {
     "name": "stderr",
     "output_type": "stream",
     "text": [
      "Token indices sequence length is longer than the specified maximum sequence length for this model (338025 > 1024). Running this sequence through the model will result in indexing errors\n",
      "huggingface/tokenizers: The current process just got forked, after parallelism has already been used. Disabling parallelism to avoid deadlocks...\n",
      "To disable this warning, you can either:\n",
      "\t- Avoid using `tokenizers` before the fork if possible\n",
      "\t- Explicitly set the environment variable TOKENIZERS_PARALLELISM=(true | false)\n",
      "Training epoch 1: 100%|██████████| 1320/1320 [01:03<00:00, 20.79it/s]\n",
      "Training epoch 2: 100%|██████████| 1320/1320 [01:01<00:00, 21.53it/s]\n",
      "Training epoch 3: 100%|██████████| 1320/1320 [00:59<00:00, 22.30it/s]\n",
      "Training epoch 4: 100%|██████████| 1320/1320 [00:59<00:00, 22.30it/s]\n",
      "Training epoch 5: 100%|██████████| 1320/1320 [00:57<00:00, 23.15it/s]\n",
      "Training epoch 6: 100%|██████████| 1320/1320 [00:56<00:00, 23.21it/s]\n",
      "Training epoch 7: 100%|██████████| 1320/1320 [00:57<00:00, 23.13it/s]\n",
      "Training epoch 8: 100%|██████████| 1320/1320 [00:57<00:00, 23.05it/s]\n",
      "Training epoch 9: 100%|██████████| 1320/1320 [00:56<00:00, 23.17it/s]\n",
      "Training epoch 10: 100%|██████████| 1320/1320 [00:58<00:00, 22.56it/s]\n",
      "Training epoch 11: 100%|██████████| 1320/1320 [00:58<00:00, 22.63it/s]\n",
      "Training epoch 12: 100%|██████████| 1320/1320 [00:57<00:00, 22.78it/s]\n",
      "Training epoch 13: 100%|██████████| 1320/1320 [00:58<00:00, 22.65it/s]\n",
      "Training epoch 14: 100%|██████████| 1320/1320 [00:58<00:00, 22.42it/s]\n",
      "Training epoch 15: 100%|██████████| 1320/1320 [00:58<00:00, 22.66it/s]\n",
      "Training epoch 16: 100%|██████████| 1320/1320 [01:00<00:00, 21.71it/s]\n",
      "Training epoch 17: 100%|██████████| 1320/1320 [00:57<00:00, 23.00it/s]\n",
      "Training epoch 18: 100%|██████████| 1320/1320 [00:57<00:00, 23.04it/s]\n",
      "Training epoch 19: 100%|██████████| 1320/1320 [06:56<00:00,  3.17it/s]\n",
      "Training epoch 20: 100%|██████████| 1320/1320 [02:34<00:00,  8.52it/s]\n",
      "Training epoch 21: 100%|██████████| 1320/1320 [57:46<00:00,  2.63s/it]   \n",
      "Training epoch 22: 100%|██████████| 1320/1320 [01:01<00:00, 21.52it/s]\n",
      "Training epoch 23: 100%|██████████| 1320/1320 [00:58<00:00, 22.52it/s]\n",
      "Training epoch 24: 100%|██████████| 1320/1320 [00:58<00:00, 22.68it/s]\n",
      "Training epoch 25: 100%|██████████| 1320/1320 [00:58<00:00, 22.40it/s]\n",
      "Training epoch 26: 100%|██████████| 1320/1320 [01:00<00:00, 21.80it/s]\n",
      "Training epoch 27: 100%|██████████| 1320/1320 [01:09<00:00, 18.95it/s]\n",
      "Training epoch 28: 100%|██████████| 1320/1320 [01:14<00:00, 17.65it/s]\n",
      "Training epoch 29: 100%|██████████| 1320/1320 [01:12<00:00, 18.23it/s]\n",
      "Training epoch 30:   0%|          | 0/1320 [00:00<?, ?it/s]"
     ]
    }
   ],
   "source": [
    "from tqdm import tqdm\n",
    "\n",
    "num_epochs = 50\n",
    "block_size = 256\n",
    "d_model = 256\n",
    "n_heads = 4\n",
    "n_layers = 4\n",
    "lr = 1e-4\n",
    "device = \"cuda\" if torch.cuda.is_available() else \"mps\" if torch.backends.mps.is_available() else \"cpu\"\n",
    "model = GPT(tokenizer.vocab_size, d_model, n_heads, n_layers, block_size).to(device)\n",
    "optim = torch.optim.Adam(model.parameters(), lr=lr)\n",
    "\n",
    "for epoch in range(num_epochs):\n",
    "    for batch in tqdm(get_batch(text, block_size), desc=f\"Training epoch {epoch+1}\", total=len(tokenizer.encode(text))//block_size):\n",
    "        x, y = torch.tensor(batch[0]).unsqueeze(0).to(device), torch.tensor(batch[1]).unsqueeze(0).to(device)\n",
    "        logits, loss = model(x, y)\n",
    "        optim.zero_grad()\n",
    "        loss.backward()\n",
    "        optim.step()"
   ]
  },
  {
   "cell_type": "code",
   "execution_count": 132,
   "metadata": {},
   "outputs": [],
   "source": [
    "context = None # None | str: \"The quick brown fox jumps over the lazy dog\"\n",
    "if context:\n",
    "    x = torch.tensor(tokenizer.encode(context)).unsqueeze(0).to(device)\n",
    "else:\n",
    "    x = torch.zeros((1, 1), dtype=torch.long).to(device)\n",
    "output = model.generate(x, deterministic=False)\n",
    "print(tokenizer.decode(output[0].tolist()))"
   ]
  },
  {
   "cell_type": "code",
   "execution_count": null,
   "metadata": {},
   "outputs": [],
   "source": []
  }
 ],
 "metadata": {
  "kernelspec": {
   "display_name": "start-code",
   "language": "python",
   "name": "python3"
  },
  "language_info": {
   "codemirror_mode": {
    "name": "ipython",
    "version": 3
   },
   "file_extension": ".py",
   "mimetype": "text/x-python",
   "name": "python",
   "nbconvert_exporter": "python",
   "pygments_lexer": "ipython3",
   "version": "3.10.0"
  }
 },
 "nbformat": 4,
 "nbformat_minor": 2
}
