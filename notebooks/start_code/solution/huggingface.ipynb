{
 "cells": [
  {
   "cell_type": "markdown",
   "metadata": {},
   "source": [
    "# Loading a GPT-2 model from Huggingface"
   ]
  },
  {
   "cell_type": "markdown",
   "metadata": {},
   "source": [
    "While training a model on your laptop is awesome, it is also very slow (and expensive)! Luckily, people with bigger computers and more money have done this already. In this notebook, you will load the GPT-2 model, trained by OpenAI. This model has 1.5 billion parameters and was trained on ~40 GB of data. And even this model, which is many orders of magnitude larger than the one we implemented, is absolutely tiny compared newer models like GPT-4 "
   ]
  },
  {
   "cell_type": "markdown",
   "metadata": {},
   "source": [
    "#### Image showing the evolution of LLMs in terms of the number of parameters"
   ]
  },
  {
   "cell_type": "markdown",
   "metadata": {},
   "source": [
    "![Size of LLMs](https://substackcdn.com/image/fetch/f_auto,q_auto:good,fl_progressive:steep/https%3A%2F%2Fbucketeer-e05bbc84-baa3-437e-9518-adb32be77984.s3.amazonaws.com%2Fpublic%2Fimages%2F91508b45-a749-4afe-95a4-7d4ec3943ed8_1048x588.png)"
   ]
  },
  {
   "cell_type": "markdown",
   "metadata": {},
   "source": [
    "## Load the models"
   ]
  },
  {
   "cell_type": "markdown",
   "metadata": {},
   "source": [
    "Start by running these cells to install the necessary libraries and load the pre-trained GPT-2 model"
   ]
  },
  {
   "cell_type": "code",
   "execution_count": 14,
   "metadata": {},
   "outputs": [
    {
     "name": "stderr",
     "output_type": "stream",
     "text": [
      "huggingface/tokenizers: The current process just got forked, after parallelism has already been used. Disabling parallelism to avoid deadlocks...\n",
      "To disable this warning, you can either:\n",
      "\t- Avoid using `tokenizers` before the fork if possible\n",
      "\t- Explicitly set the environment variable TOKENIZERS_PARALLELISM=(true | false)\n"
     ]
    },
    {
     "name": "stdout",
     "output_type": "stream",
     "text": [
      "Requirement already satisfied: transformers in /Users/oskarjor/miniconda3/envs/start-code/lib/python3.10/site-packages (4.46.0)\n",
      "Requirement already satisfied: matplotlib in /Users/oskarjor/miniconda3/envs/start-code/lib/python3.10/site-packages (3.9.2)\n",
      "Requirement already satisfied: filelock in /Users/oskarjor/miniconda3/envs/start-code/lib/python3.10/site-packages (from transformers) (3.16.1)\n",
      "Requirement already satisfied: huggingface-hub<1.0,>=0.23.2 in /Users/oskarjor/miniconda3/envs/start-code/lib/python3.10/site-packages (from transformers) (0.26.1)\n",
      "Requirement already satisfied: numpy>=1.17 in /Users/oskarjor/miniconda3/envs/start-code/lib/python3.10/site-packages (from transformers) (1.26.4)\n",
      "Requirement already satisfied: packaging>=20.0 in /Users/oskarjor/miniconda3/envs/start-code/lib/python3.10/site-packages (from transformers) (24.1)\n",
      "Requirement already satisfied: pyyaml>=5.1 in /Users/oskarjor/miniconda3/envs/start-code/lib/python3.10/site-packages (from transformers) (6.0.2)\n",
      "Requirement already satisfied: regex!=2019.12.17 in /Users/oskarjor/miniconda3/envs/start-code/lib/python3.10/site-packages (from transformers) (2024.9.11)\n",
      "Requirement already satisfied: requests in /Users/oskarjor/miniconda3/envs/start-code/lib/python3.10/site-packages (from transformers) (2.32.3)\n",
      "Requirement already satisfied: safetensors>=0.4.1 in /Users/oskarjor/miniconda3/envs/start-code/lib/python3.10/site-packages (from transformers) (0.4.5)\n",
      "Requirement already satisfied: tokenizers<0.21,>=0.20 in /Users/oskarjor/miniconda3/envs/start-code/lib/python3.10/site-packages (from transformers) (0.20.1)\n",
      "Requirement already satisfied: tqdm>=4.27 in /Users/oskarjor/miniconda3/envs/start-code/lib/python3.10/site-packages (from transformers) (4.66.5)\n",
      "Requirement already satisfied: contourpy>=1.0.1 in /Users/oskarjor/miniconda3/envs/start-code/lib/python3.10/site-packages (from matplotlib) (1.3.0)\n",
      "Requirement already satisfied: cycler>=0.10 in /Users/oskarjor/miniconda3/envs/start-code/lib/python3.10/site-packages (from matplotlib) (0.12.1)\n",
      "Requirement already satisfied: fonttools>=4.22.0 in /Users/oskarjor/miniconda3/envs/start-code/lib/python3.10/site-packages (from matplotlib) (4.54.1)\n",
      "Requirement already satisfied: kiwisolver>=1.3.1 in /Users/oskarjor/miniconda3/envs/start-code/lib/python3.10/site-packages (from matplotlib) (1.4.7)\n",
      "Requirement already satisfied: pillow>=8 in /Users/oskarjor/miniconda3/envs/start-code/lib/python3.10/site-packages (from matplotlib) (11.0.0)\n",
      "Requirement already satisfied: pyparsing>=2.3.1 in /Users/oskarjor/miniconda3/envs/start-code/lib/python3.10/site-packages (from matplotlib) (3.2.0)\n",
      "Requirement already satisfied: python-dateutil>=2.7 in /Users/oskarjor/miniconda3/envs/start-code/lib/python3.10/site-packages (from matplotlib) (2.9.0.post0)\n",
      "Requirement already satisfied: fsspec>=2023.5.0 in /Users/oskarjor/miniconda3/envs/start-code/lib/python3.10/site-packages (from huggingface-hub<1.0,>=0.23.2->transformers) (2024.10.0)\n",
      "Requirement already satisfied: typing-extensions>=3.7.4.3 in /Users/oskarjor/miniconda3/envs/start-code/lib/python3.10/site-packages (from huggingface-hub<1.0,>=0.23.2->transformers) (4.12.2)\n",
      "Requirement already satisfied: six>=1.5 in /Users/oskarjor/miniconda3/envs/start-code/lib/python3.10/site-packages (from python-dateutil>=2.7->matplotlib) (1.16.0)\n",
      "Requirement already satisfied: charset-normalizer<4,>=2 in /Users/oskarjor/miniconda3/envs/start-code/lib/python3.10/site-packages (from requests->transformers) (3.4.0)\n",
      "Requirement already satisfied: idna<4,>=2.5 in /Users/oskarjor/miniconda3/envs/start-code/lib/python3.10/site-packages (from requests->transformers) (3.10)\n",
      "Requirement already satisfied: urllib3<3,>=1.21.1 in /Users/oskarjor/miniconda3/envs/start-code/lib/python3.10/site-packages (from requests->transformers) (2.2.3)\n",
      "Requirement already satisfied: certifi>=2017.4.17 in /Users/oskarjor/miniconda3/envs/start-code/lib/python3.10/site-packages (from requests->transformers) (2024.8.30)\n"
     ]
    }
   ],
   "source": [
    "!pip install transformers matplotlib"
   ]
  },
  {
   "cell_type": "code",
   "execution_count": 15,
   "metadata": {},
   "outputs": [],
   "source": [
    "import matplotlib.pyplot as plt\n",
    "from transformers import AutoTokenizer, AutoModelForCausalLM"
   ]
  },
  {
   "cell_type": "code",
   "execution_count": 16,
   "metadata": {},
   "outputs": [],
   "source": [
    "tokenizer = AutoTokenizer.from_pretrained('gpt2')\n",
    "model = AutoModelForCausalLM.from_pretrained('gpt2')"
   ]
  },
  {
   "cell_type": "markdown",
   "metadata": {},
   "source": [
    "## Generate text"
   ]
  },
  {
   "cell_type": "markdown",
   "metadata": {},
   "source": [
    "We will now generate some text! Change the parameters and see what the model actually outputs"
   ]
  },
  {
   "cell_type": "code",
   "execution_count": 17,
   "metadata": {},
   "outputs": [
    {
     "name": "stdout",
     "output_type": "stream",
     "text": [
      "Once upon a time the world began to move ever more decisively towards the annihilation of the human species. The ancient gods of the Ancient Kingdom were given great powers to summon forth the spirit of some kind of human being, even a god like a god. Thus, according to legend, the Old Ones had come into this world by means of their divine powers, thus leading them to the destruction and destruction of human culture.\n",
      "\n",
      "After the downfall of the Old Ones, several aspects of the human race began\n"
     ]
    }
   ],
   "source": [
    "### YOUR CODE HERE ###\n",
    "\n",
    "text = \"Once upon a time\"   # change the input text here\n",
    "temperature = 1.0           # change the temperature here. \n",
    "                            # This determines how random the text generation is. \n",
    "                            # Lower values are more deterministic, higher values are more random.\n",
    "\n",
    "### END CODE HERE ###\n",
    "\n",
    "encoded_input = tokenizer(text, return_tensors='pt')\n",
    "input_ids = encoded_input['input_ids']\n",
    "attn_mask = encoded_input['attention_mask']\n",
    "gen_tokens = model.generate(\n",
    "    input_ids, \n",
    "    attention_mask=attn_mask,\n",
    "    pad_token_id=tokenizer.eos_token_id,\n",
    "    do_sample=True,\n",
    "    temperature=temperature,\n",
    "    max_length=100\n",
    ")\n",
    "gen_text = tokenizer.batch_decode(gen_tokens)[0]\n",
    "print(gen_text)"
   ]
  },
  {
   "cell_type": "markdown",
   "metadata": {},
   "source": [
    "## Next-word prediction"
   ]
  },
  {
   "cell_type": "markdown",
   "metadata": {},
   "source": [
    "Recall from the lecture that all we are really doing is trying to predict the probability distribution of the next word (technically we are predicting the next token, and a token might be a sub-word or even several words, but it is easier if we just think about predicting words). How might this probability distribution look? Before you run the code, consider this. Consider a text starting with:\n",
    "\n",
    "<center><h1>Once upon a...</h1></center>\n",
    "\n",
    "What do you think is the most probable next word?"
   ]
  },
  {
   "cell_type": "code",
   "execution_count": 22,
   "metadata": {},
   "outputs": [
    {
     "data": {
      "image/png": "[encoded data removed]",
      "text/plain": [
       "<Figure size 1600x1000 with 1 Axes>"
      ]
     },
     "metadata": {},
     "output_type": "display_data"
    }
   ],
   "source": [
    "### YOUR CODE HERE ###\n",
    "\n",
    "text = \"Once upon a\"   # change the input text here. For instance, try \"I am Iron\" and see what happens.\n",
    "temperature = 1.0           # change the temperature here. \n",
    "                            # This determines how random the text generation is. \n",
    "                            # Lower values are more deterministic, higher values are more random.\n",
    "\n",
    "### END CODE HERE ###\n",
    "\n",
    "encoded_input = tokenizer(text, return_tensors='pt')\n",
    "input_ids = encoded_input['input_ids']\n",
    "attn_mask = encoded_input['attention_mask']\n",
    "gen_tokens = model.generate(\n",
    "    input_ids, \n",
    "    attention_mask=attn_mask,\n",
    "    pad_token_id=tokenizer.eos_token_id,\n",
    "    do_sample=True,\n",
    "    temperature=temperature,\n",
    "    max_length=100\n",
    ")\n",
    "gen_text = tokenizer.batch_decode(gen_tokens)[0]\n",
    "\n",
    "# we will only look at the next token\n",
    "k = 10\n",
    "next_token = model(**encoded_input).logits[0, -1, :].detach()\n",
    "top_k = next_token.topk(k).indices\n",
    "top_k_tokens = tokenizer.batch_decode(top_k)\n",
    "\n",
    "fig, ax = plt.subplots(figsize=(16, 10))\n",
    "ax.barh(top_k_tokens, next_token[top_k].softmax(dim=0))\n",
    "ax.invert_yaxis()\n",
    "ax.set_xlabel('Probability')\n",
    "ax.set_title(text + \"...\")\n",
    "ax.title.set_fontsize(40)\n",
    "plt.savefig(\"Next-word-prediction.png\")\n"
   ]
  },
  {
   "cell_type": "code",
   "execution_count": null,
   "metadata": {},
   "outputs": [],
   "source": []
  }
 ],
 "metadata": {
  "kernelspec": {
   "display_name": "start-code",
   "language": "python",
   "name": "python3"
  },
  "language_info": {
   "codemirror_mode": {
    "name": "ipython",
    "version": 3
   },
   "file_extension": ".py",
   "mimetype": "text/x-python",
   "name": "python",
   "nbconvert_exporter": "python",
   "pygments_lexer": "ipython3",
   "version": "3.10.0"
  }
 },
 "nbformat": 4,
 "nbformat_minor": 2
}
