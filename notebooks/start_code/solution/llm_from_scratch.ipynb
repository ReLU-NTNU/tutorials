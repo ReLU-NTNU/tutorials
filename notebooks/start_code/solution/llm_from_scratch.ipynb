{
 "cells": [
  {
   "cell_type": "code",
   "execution_count": 1,
   "metadata": {},
   "outputs": [],
   "source": [
    "import torch\n",
    "import torch.nn as nn\n",
    "import torch.nn.functional as F\n",
    "import torch.optim as optim"
   ]
  },
  {
   "cell_type": "markdown",
   "metadata": {},
   "source": [
    "<h2> Word Embeddings </h2>"
   ]
  },
  {
   "cell_type": "code",
   "execution_count": null,
   "metadata": {},
   "outputs": [],
   "source": []
  },
  {
   "cell_type": "markdown",
   "metadata": {},
   "source": [
    "<h2> Tokenization </h2>"
   ]
  },
  {
   "cell_type": "code",
   "execution_count": 2,
   "metadata": {},
   "outputs": [
    {
     "name": "stdout",
     "output_type": "stream",
     "text": [
      "['a', 'am', 'brown', 'doctor', 'dog', 'fox', 'i', 'jumps', 'lazy', 'over', 'programmer', 'quick', 'student', 'teacher', 'the']\n",
      "[[6, 1, 0, 12, 15, 15, 15, 15, 15], [6, 1, 0, 13, 15, 15, 15, 15, 15], [6, 1, 0, 3, 15, 15, 15, 15, 15], [6, 1, 0, 10, 15, 15, 15, 15, 15], [14, 11, 2, 5, 7, 9, 14, 8, 4]]\n",
      "9 [9, 9, 9, 9, 9]\n"
     ]
    }
   ],
   "source": [
    "class Tokenizer:\n",
    "\n",
    "    def __init__(self):\n",
    "\n",
    "        self.vocab = None\n",
    "        self.max_len = None\n",
    "        self.vocab_size = None\n",
    "\n",
    "    def preprocess(self, text):\n",
    "\n",
    "        # remove all non alphabetic characters\n",
    "        text = ''.join(e for e in text if e.isalnum() or e.isspace())\n",
    "\n",
    "        # convert to lowercase\n",
    "        text = text.lower()\n",
    "\n",
    "        return text\n",
    "\n",
    "    def generate_vocab(self, texts):\n",
    "\n",
    "        text_preprocessed = [self.preprocess(text) for text in texts]\n",
    "\n",
    "        self.max_len = max([len(seq.split()) for seq in text_preprocessed])\n",
    "\n",
    "        words = \" \".join(text_preprocessed).split()\n",
    "\n",
    "        vocab = list(set(words))\n",
    "\n",
    "        vocab.sort()\n",
    "\n",
    "        self.vocab = vocab\n",
    "\n",
    "        self.vocab_size = len(self.vocab) + 1\n",
    "    \n",
    "    def tokenize(self, texts):\n",
    "\n",
    "        total_tokens = []\n",
    "\n",
    "        for text in texts:\n",
    "    \n",
    "            text_preprocessed = self.preprocess(text)\n",
    "\n",
    "            words = text_preprocessed.split()\n",
    "\n",
    "            tokens = []\n",
    "\n",
    "            for word in words:\n",
    "                tokens.append(self.vocab.index(word))\n",
    "            \n",
    "            tokens += [self.vocab_size-1 for _ in range(self.max_len - len(tokens))]\n",
    "\n",
    "            total_tokens.append(tokens)\n",
    "\n",
    "        return total_tokens\n",
    "\n",
    "texts = [\n",
    "    \"I am a student\", \n",
    "    \"I am a teacher\", \n",
    "    \"I am a doctor\", \n",
    "    \"I am a programmer\", \n",
    "    \"The quick brown fox jumps over the lazy dog\"\n",
    "]\n",
    "\n",
    "tokenizer = Tokenizer()\n",
    "\n",
    "tokenizer.generate_vocab(texts)\n",
    "\n",
    "print(tokenizer.vocab)\n",
    "\n",
    "tokens = tokenizer.tokenize(texts)\n",
    "\n",
    "print(tokens)\n",
    "\n",
    "print(tokenizer.max_len, [len(t) for t in tokens])"
   ]
  },
  {
   "cell_type": "markdown",
   "metadata": {},
   "source": [
    "<h2> Embedding Layer </h2>"
   ]
  },
  {
   "cell_type": "code",
   "execution_count": 3,
   "metadata": {},
   "outputs": [
    {
     "name": "stdout",
     "output_type": "stream",
     "text": [
      "16\n",
      "[[6, 1, 0, 12, 15, 15, 15, 15, 15], [6, 1, 0, 13, 15, 15, 15, 15, 15], [6, 1, 0, 3, 15, 15, 15, 15, 15], [6, 1, 0, 10, 15, 15, 15, 15, 15], [14, 11, 2, 5, 7, 9, 14, 8, 4]]\n",
      "torch.Size([5, 9, 10])\n",
      "tensor([[[-1.0065,  0.1527, -0.7224, -0.3949,  2.4537, -0.6885, -1.3598,\n",
      "           1.0820,  0.9428, -0.4035],\n",
      "         [-0.7389, -0.4501,  0.9360,  0.4629, -0.2568, -0.7257,  0.2240,\n",
      "           0.0523, -1.0337,  0.2880],\n",
      "         [ 0.8470,  0.7969,  1.4411,  0.0883,  0.7106, -0.7740,  0.1917,\n",
      "          -0.2316, -0.1956, -0.0967],\n",
      "         [ 0.0906,  1.7077,  2.8512,  0.5637, -0.2835,  0.7549,  0.1994,\n",
      "          -0.2282,  0.5673, -0.4808],\n",
      "         [ 0.0410, -0.6776, -1.3725, -0.7390, -2.3252, -0.5474, -0.4393,\n",
      "          -0.8067, -2.1348, -0.7387],\n",
      "         [ 0.0410, -0.6776, -1.3725, -0.7390, -2.3252, -0.5474, -0.4393,\n",
      "          -0.8067, -2.1348, -0.7387],\n",
      "         [ 0.0410, -0.6776, -1.3725, -0.7390, -2.3252, -0.5474, -0.4393,\n",
      "          -0.8067, -2.1348, -0.7387],\n",
      "         [ 0.0410, -0.6776, -1.3725, -0.7390, -2.3252, -0.5474, -0.4393,\n",
      "          -0.8067, -2.1348, -0.7387],\n",
      "         [ 0.0410, -0.6776, -1.3725, -0.7390, -2.3252, -0.5474, -0.4393,\n",
      "          -0.8067, -2.1348, -0.7387]],\n",
      "\n",
      "        [[-1.0065,  0.1527, -0.7224, -0.3949,  2.4537, -0.6885, -1.3598,\n",
      "           1.0820,  0.9428, -0.4035],\n",
      "         [-0.7389, -0.4501,  0.9360,  0.4629, -0.2568, -0.7257,  0.2240,\n",
      "           0.0523, -1.0337,  0.2880],\n",
      "         [ 0.8470,  0.7969,  1.4411,  0.0883,  0.7106, -0.7740,  0.1917,\n",
      "          -0.2316, -0.1956, -0.0967],\n",
      "         [-0.4089,  1.9893, -0.6909,  0.8963,  0.2507, -0.0322, -0.8178,\n",
      "           1.4736, -0.0275, -0.3641],\n",
      "         [ 0.0410, -0.6776, -1.3725, -0.7390, -2.3252, -0.5474, -0.4393,\n",
      "          -0.8067, -2.1348, -0.7387],\n",
      "         [ 0.0410, -0.6776, -1.3725, -0.7390, -2.3252, -0.5474, -0.4393,\n",
      "          -0.8067, -2.1348, -0.7387],\n",
      "         [ 0.0410, -0.6776, -1.3725, -0.7390, -2.3252, -0.5474, -0.4393,\n",
      "          -0.8067, -2.1348, -0.7387],\n",
      "         [ 0.0410, -0.6776, -1.3725, -0.7390, -2.3252, -0.5474, -0.4393,\n",
      "          -0.8067, -2.1348, -0.7387],\n",
      "         [ 0.0410, -0.6776, -1.3725, -0.7390, -2.3252, -0.5474, -0.4393,\n",
      "          -0.8067, -2.1348, -0.7387]],\n",
      "\n",
      "        [[-1.0065,  0.1527, -0.7224, -0.3949,  2.4537, -0.6885, -1.3598,\n",
      "           1.0820,  0.9428, -0.4035],\n",
      "         [-0.7389, -0.4501,  0.9360,  0.4629, -0.2568, -0.7257,  0.2240,\n",
      "           0.0523, -1.0337,  0.2880],\n",
      "         [ 0.8470,  0.7969,  1.4411,  0.0883,  0.7106, -0.7740,  0.1917,\n",
      "          -0.2316, -0.1956, -0.0967],\n",
      "         [ 0.5636,  1.5820, -1.4901,  0.2952, -1.3279, -1.3600, -1.4035,\n",
      "           0.0863,  0.6560, -0.5126],\n",
      "         [ 0.0410, -0.6776, -1.3725, -0.7390, -2.3252, -0.5474, -0.4393,\n",
      "          -0.8067, -2.1348, -0.7387],\n",
      "         [ 0.0410, -0.6776, -1.3725, -0.7390, -2.3252, -0.5474, -0.4393,\n",
      "          -0.8067, -2.1348, -0.7387],\n",
      "         [ 0.0410, -0.6776, -1.3725, -0.7390, -2.3252, -0.5474, -0.4393,\n",
      "          -0.8067, -2.1348, -0.7387],\n",
      "         [ 0.0410, -0.6776, -1.3725, -0.7390, -2.3252, -0.5474, -0.4393,\n",
      "          -0.8067, -2.1348, -0.7387],\n",
      "         [ 0.0410, -0.6776, -1.3725, -0.7390, -2.3252, -0.5474, -0.4393,\n",
      "          -0.8067, -2.1348, -0.7387]],\n",
      "\n",
      "        [[-1.0065,  0.1527, -0.7224, -0.3949,  2.4537, -0.6885, -1.3598,\n",
      "           1.0820,  0.9428, -0.4035],\n",
      "         [-0.7389, -0.4501,  0.9360,  0.4629, -0.2568, -0.7257,  0.2240,\n",
      "           0.0523, -1.0337,  0.2880],\n",
      "         [ 0.8470,  0.7969,  1.4411,  0.0883,  0.7106, -0.7740,  0.1917,\n",
      "          -0.2316, -0.1956, -0.0967],\n",
      "         [-0.1442,  0.9735, -1.8082,  0.5506,  1.3273, -0.1190,  0.9672,\n",
      "           0.6519, -0.9355,  1.9107],\n",
      "         [ 0.0410, -0.6776, -1.3725, -0.7390, -2.3252, -0.5474, -0.4393,\n",
      "          -0.8067, -2.1348, -0.7387],\n",
      "         [ 0.0410, -0.6776, -1.3725, -0.7390, -2.3252, -0.5474, -0.4393,\n",
      "          -0.8067, -2.1348, -0.7387],\n",
      "         [ 0.0410, -0.6776, -1.3725, -0.7390, -2.3252, -0.5474, -0.4393,\n",
      "          -0.8067, -2.1348, -0.7387],\n",
      "         [ 0.0410, -0.6776, -1.3725, -0.7390, -2.3252, -0.5474, -0.4393,\n",
      "          -0.8067, -2.1348, -0.7387],\n",
      "         [ 0.0410, -0.6776, -1.3725, -0.7390, -2.3252, -0.5474, -0.4393,\n",
      "          -0.8067, -2.1348, -0.7387]],\n",
      "\n",
      "        [[ 0.5194, -0.0243,  0.7141, -0.6530, -0.7102,  1.6369,  0.1517,\n",
      "          -0.5802, -0.9286,  0.9623],\n",
      "         [-0.9284, -0.8176, -0.1365, -0.2369,  1.0191, -1.9697, -0.5842,\n",
      "          -0.6444,  0.1750, -0.7162],\n",
      "         [ 0.1660, -0.7330, -0.7061,  0.3073,  0.6404, -0.2262,  0.0808,\n",
      "          -0.3399, -0.3764, -0.4686],\n",
      "         [ 1.5675, -0.1172, -0.2925, -1.2809,  0.5731,  2.2450, -0.1696,\n",
      "           3.4156,  0.3505,  0.9181],\n",
      "         [ 0.7034, -0.8041, -1.2957, -1.5452,  0.9452,  0.6226,  1.4704,\n",
      "           1.3624,  0.1356, -1.3528],\n",
      "         [-0.5997,  1.5696, -0.5521, -0.0194,  0.1156,  0.1848,  0.4553,\n",
      "           0.8315, -1.3295, -0.4396],\n",
      "         [ 0.5194, -0.0243,  0.7141, -0.6530, -0.7102,  1.6369,  0.1517,\n",
      "          -0.5802, -0.9286,  0.9623],\n",
      "         [ 1.3043,  1.0233,  0.5894, -0.9166, -0.1244, -0.7119, -0.9794,\n",
      "           1.6661,  0.8796, -0.4477],\n",
      "         [-0.6600, -0.9272,  1.1393,  1.0545, -1.1100, -2.2703,  0.9800,\n",
      "           0.2990, -0.7215,  0.5389]]], grad_fn=<EmbeddingBackward0>)\n"
     ]
    }
   ],
   "source": [
    "class EmbeddingLayer(nn.Module):\n",
    "\n",
    "    def __init__(self, vocab_size, embedding_dim):\n",
    "        super().__init__()\n",
    "\n",
    "        self.embedding = nn.Embedding(vocab_size, embedding_dim)\n",
    "\n",
    "    def forward(self, x):\n",
    "\n",
    "        return self.embedding(x)\n",
    "    \n",
    "\n",
    "embedding_dim = 10\n",
    "\n",
    "print(tokenizer.vocab_size)\n",
    "print(tokens)\n",
    "\n",
    "embedding_layer = EmbeddingLayer(tokenizer.vocab_size, embedding_dim)\n",
    "\n",
    "tokens = torch.Tensor(tokens).long()\n",
    "\n",
    "embeddings = embedding_layer(tokens)\n",
    "\n",
    "print(embeddings.shape)\n",
    "print(embeddings)"
   ]
  },
  {
   "cell_type": "markdown",
   "metadata": {},
   "source": [
    "<h2> The Attention Layer </h2>"
   ]
  },
  {
   "cell_type": "code",
   "execution_count": 4,
   "metadata": {},
   "outputs": [
    {
     "data": {
      "text/plain": [
       "(torch.Size([5, 9, 10]), torch.Size([5, 9, 10]))"
      ]
     },
     "execution_count": 4,
     "metadata": {},
     "output_type": "execute_result"
    }
   ],
   "source": [
    "class Attention(nn.Module):\n",
    "\n",
    "    def __init__(self, d_model, head_size):\n",
    "        super().__init__()\n",
    "        \n",
    "        self.d_model = d_model\n",
    "        self.linear = nn.Linear(d_model, 3 * head_size)\n",
    "\n",
    "    def forward(self, x):\n",
    "\n",
    "        q, k, v = self.linear(x).chunk(3, dim=-1)\n",
    "\n",
    "        # attn = softmax(Q K.T) V\n",
    "        attn = torch.einsum(\"bnd,bkd->bnk\", q, k)\n",
    "        attn = attn / (self.d_model ** 0.5)\n",
    "        attn = F.softmax(attn, dim=-1)\n",
    "        attn = attn @ v\n",
    "\n",
    "        return attn\n",
    "    \n",
    "\n",
    "attention_layer = Attention(embedding_dim, embedding_dim)\n",
    "attn_logits = attention_layer(embeddings)\n",
    "embeddings.shape, attn_logits.shape"
   ]
  },
  {
   "cell_type": "code",
   "execution_count": 5,
   "metadata": {},
   "outputs": [
    {
     "data": {
      "text/plain": [
       "torch.Size([8, 16, 32])"
      ]
     },
     "execution_count": 5,
     "metadata": {},
     "output_type": "execute_result"
    }
   ],
   "source": [
    "# naive implementation of multi-head attention\n",
    "\n",
    "class MultiHeadAttention(nn.Module):\n",
    "\n",
    "    def __init__(self, d_model, n_heads):\n",
    "        super().__init__()\n",
    "        assert d_model % n_heads == 0, \"d_model must be divisible by n_heads\"\n",
    "\n",
    "        self.n_heads = n_heads\n",
    "        self.d_model = d_model\n",
    "        self.head_size = d_model // n_heads\n",
    "\n",
    "        self.heads = nn.ModuleList([Attention(self.d_model, self.head_size) for _ in range(n_heads)])\n",
    "\n",
    "    def forward(self, x):\n",
    "        return torch.cat([head(x) for head in self.heads], dim=-1)\n",
    "    \n",
    "d_model = 32\n",
    "n_heads = 4\n",
    "seq_len = 16\n",
    "batch_size = 8\n",
    "shifted_x = torch.randn(batch_size, seq_len, d_model)\n",
    "multi_head_attn = MultiHeadAttention(d_model, n_heads)\n",
    "attn_logits = multi_head_attn(shifted_x)\n",
    "attn_logits.shape"
   ]
  },
  {
   "cell_type": "code",
   "execution_count": 6,
   "metadata": {},
   "outputs": [
    {
     "data": {
      "text/plain": [
       "torch.Size([8, 16, 32])"
      ]
     },
     "execution_count": 6,
     "metadata": {},
     "output_type": "execute_result"
    }
   ],
   "source": [
    "# faster implementation of multi-head attention\n",
    "\n",
    "class MultiHeadAttention(nn.Module):\n",
    "\n",
    "    def __init__(self, d_model, n_heads):\n",
    "        super().__init__()\n",
    "        assert d_model % n_heads == 0, \"d_model must be divisible by n_heads\"\n",
    "\n",
    "        self.n_heads = n_heads\n",
    "        self.d_model = d_model\n",
    "        self.head_size = d_model // n_heads\n",
    "\n",
    "        self.qkv = nn.Linear(d_model, 3*d_model)\n",
    "        self.fc = nn.Linear(d_model, d_model)\n",
    "\n",
    "    def forward(self, x):\n",
    "        batch_size, seq_len, _ = x.shape\n",
    "            \n",
    "        qkv = self.qkv(x)\n",
    "        qkv = qkv.view(batch_size, seq_len, self.n_heads, 3*self.head_size)\n",
    "        qkv = qkv.permute(0, 2, 1, 3) # batch, n_heads, seq_len, 3 * head_size\n",
    "        q, k, v = qkv.chunk(3, dim=-1) # batch, n_heads, seq_len, head_size\n",
    "\n",
    "        # attn = softmax(Q @ K.T) V\n",
    "        attn = torch.einsum(\"bhid,bhjd->bhij\", q, k)\n",
    "        attn /= self.head_size ** 0.5\n",
    "        attn = F.softmax(attn, dim=-1)\n",
    "        attn = attn @ v\n",
    "        attn = attn.permute(0, 2, 1, 3).contiguous()\n",
    "        attn = attn.reshape(batch_size, seq_len, -1)\n",
    "\n",
    "        return self.fc(attn)\n",
    "\n",
    "d_model = 32\n",
    "n_heads = 4\n",
    "seq_len = 16\n",
    "batch_size = 8\n",
    "shifted_x = torch.randn(batch_size, seq_len, d_model)\n",
    "multi_head_attn = MultiHeadAttention(d_model, n_heads)\n",
    "attn_logits = multi_head_attn(shifted_x)\n",
    "attn_logits.shape\n"
   ]
  },
  {
   "cell_type": "code",
   "execution_count": 7,
   "metadata": {},
   "outputs": [
    {
     "data": {
      "text/plain": [
       "torch.Size([8, 16, 32])"
      ]
     },
     "execution_count": 7,
     "metadata": {},
     "output_type": "execute_result"
    }
   ],
   "source": [
    "# faster implementation of multi-head attention w/masking\n",
    "\n",
    "class MultiHeadAttention(nn.Module):\n",
    "\n",
    "    def __init__(self, d_model, n_heads):\n",
    "        super().__init__()\n",
    "        assert d_model % n_heads == 0, \"d_model must be divisible by n_heads\"\n",
    "\n",
    "        self.n_heads = n_heads\n",
    "        self.d_model = d_model\n",
    "        self.head_size = d_model // n_heads\n",
    "\n",
    "        self.qkv = nn.Linear(d_model, 3*d_model)\n",
    "        self.fc = nn.Linear(d_model, d_model)\n",
    "\n",
    "    def forward(self, x):\n",
    "        batch_size, seq_len, _ = x.shape\n",
    "            \n",
    "        qkv = self.qkv(x)\n",
    "        qkv = qkv.view(batch_size, seq_len, self.n_heads, 3*self.head_size)\n",
    "        qkv = qkv.permute(0, 2, 1, 3) # batch, n_heads, seq_len, 3 * head_size\n",
    "        q, k, v = qkv.chunk(3, dim=-1) # batch, n_heads, seq_len, head_size\n",
    "\n",
    "        # attn = softmax(Q @ K.T) V\n",
    "        attn = torch.einsum(\"bhid,bhjd->bhij\", q, k)\n",
    "        attn /= self.head_size ** 0.5\n",
    "        mask = torch.full((seq_len, seq_len), float('-inf')).to(x.device)\n",
    "        mask = torch.triu(mask, diagonal=1)\n",
    "        attn = attn + mask\n",
    "        attn = F.softmax(attn, dim=-1)\n",
    "        attn = attn @ v\n",
    "        attn = attn.permute(0, 2, 1, 3).contiguous()\n",
    "        attn = attn.reshape(batch_size, seq_len, -1)\n",
    "\n",
    "        return self.fc(attn)\n",
    "\n",
    "d_model = 32\n",
    "n_heads = 4\n",
    "seq_len = 16\n",
    "batch_size = 8\n",
    "shifted_x = torch.randn(batch_size, seq_len, d_model)\n",
    "multi_head_attn = MultiHeadAttention(d_model, n_heads)\n",
    "attn_logits = multi_head_attn(shifted_x)\n",
    "attn_logits.shape"
   ]
  },
  {
   "cell_type": "code",
   "execution_count": 8,
   "metadata": {},
   "outputs": [],
   "source": [
    "class AttentionBlock(nn.Module):\n",
    "\n",
    "    def __init__(self, d_model, n_heads):\n",
    "        super().__init__()\n",
    "\n",
    "        self.attn = MultiHeadAttention(d_model, n_heads)\n",
    "        self.norm1 = nn.LayerNorm(d_model)\n",
    "        self.norm2 = nn.LayerNorm(d_model)\n",
    "        self.dropout = nn.Dropout(0.1)\n",
    "        self.mlp = nn.Sequential(\n",
    "            nn.Linear(d_model, 4*d_model),\n",
    "            nn.ReLU(),\n",
    "            nn.Linear(4*d_model, d_model)\n",
    "        )\n",
    "\n",
    "    def forward(self, x):\n",
    "        x = x + self.dropout(self.attn(self.norm1(x)))\n",
    "        x = x + self.mlp(self.norm2(x))\n",
    "        return x"
   ]
  },
  {
   "cell_type": "code",
   "execution_count": 9,
   "metadata": {},
   "outputs": [],
   "source": [
    "class Transformer(nn.Module):\n",
    "\n",
    "    def __init__(self, vocab_size, d_model, n_heads, n_layers, block_size):\n",
    "        super().__init__()\n",
    "\n",
    "        self.embedding = nn.Embedding(vocab_size, d_model)\n",
    "        self.pos_embedding = nn.Embedding(block_size, d_model)\n",
    "        self.attention_blocks = nn.Sequential(*[AttentionBlock(d_model, n_heads) for _ in range(n_layers)])\n",
    "        self.fc = nn.Linear(d_model, vocab_size)\n",
    "\n",
    "    def forward(self, x):\n",
    "        # x size: (batch_size, seq_len)\n",
    "        x = self.embedding(x) # (batch_size, seq_len, d_model)\n",
    "        x = x + self.pos_embedding(torch.arange(x.size(1), device=x.device))\n",
    "        x = self.attention_blocks(x)\n",
    "        return self.fc(x)"
   ]
  },
  {
   "cell_type": "code",
   "execution_count": 10,
   "metadata": {},
   "outputs": [],
   "source": [
    "class GPT(nn.Module):\n",
    "\n",
    "    def __init__(self, vocab_size, d_model, n_heads, n_layers, block_size):\n",
    "        super().__init__()\n",
    "\n",
    "        self.transformer = Transformer(vocab_size, d_model, n_heads, n_layers, block_size)\n",
    "        self.loss_fn = nn.CrossEntropyLoss()\n",
    "\n",
    "    def forward(self, x, targets=None):\n",
    "        logits = self.transformer(x)\n",
    "        loss = None\n",
    "        if targets is not None:\n",
    "            loss = self.loss_fn(logits.view(-1, logits.size(-1)), targets.view(-1))\n",
    "        return logits, loss\n",
    "\n",
    "    def generate(self, x, steps=100, deterministic=False):\n",
    "        for _ in range(steps):\n",
    "            logits = self.transformer(x)\n",
    "            if deterministic:\n",
    "                next_token = torch.argmax(logits[:, -1], dim=-1).unsqueeze(-1)\n",
    "            else:\n",
    "                next_token = torch.multinomial(F.softmax(logits[:, -1], dim=-1), num_samples=1)\n",
    "            x = torch.cat([x, next_token], dim=-1)\n",
    "        return x"
   ]
  },
  {
   "cell_type": "code",
   "execution_count": 11,
   "metadata": {},
   "outputs": [
    {
     "name": "stderr",
     "output_type": "stream",
     "text": [
      "/Users/oskarjor/miniconda3/envs/start-code/lib/python3.10/site-packages/tqdm/auto.py:21: TqdmWarning: IProgress not found. Please update jupyter and ipywidgets. See https://ipywidgets.readthedocs.io/en/stable/user_install.html\n",
      "  from .autonotebook import tqdm as notebook_tqdm\n"
     ]
    }
   ],
   "source": [
    "from transformers import AutoTokenizer\n",
    "\n",
    "tokenizer = AutoTokenizer.from_pretrained(\"gpt2\")"
   ]
  },
  {
   "cell_type": "code",
   "execution_count": 12,
   "metadata": {},
   "outputs": [],
   "source": [
    "with open(\"input.txt\", \"r\") as f:\n",
    "    text = f.read()"
   ]
  },
  {
   "cell_type": "code",
   "execution_count": 13,
   "metadata": {},
   "outputs": [],
   "source": [
    "def get_batch(text, block_size):\n",
    "\n",
    "    tokens = tokenizer.encode(text)\n",
    "\n",
    "    for i in range(0, len(tokens) - block_size, block_size):\n",
    "        yield tokens[i:i+block_size], tokens[i+1:i+block_size+1]"
   ]
  },
  {
   "cell_type": "code",
   "execution_count": 14,
   "metadata": {},
   "outputs": [
    {
     "name": "stderr",
     "output_type": "stream",
     "text": [
      "Token indices sequence length is longer than the specified maximum sequence length for this model (338025 > 1024). Running this sequence through the model will result in indexing errors\n",
      "huggingface/tokenizers: The current process just got forked, after parallelism has already been used. Disabling parallelism to avoid deadlocks...\n",
      "To disable this warning, you can either:\n",
      "\t- Avoid using `tokenizers` before the fork if possible\n",
      "\t- Explicitly set the environment variable TOKENIZERS_PARALLELISM=(true | false)\n",
      "Training epoch 1: 100%|██████████| 1320/1320 [01:03<00:00, 20.79it/s]\n",
      "Training epoch 2: 100%|██████████| 1320/1320 [01:01<00:00, 21.53it/s]\n",
      "Training epoch 3: 100%|██████████| 1320/1320 [00:59<00:00, 22.30it/s]\n",
      "Training epoch 4: 100%|██████████| 1320/1320 [00:59<00:00, 22.30it/s]\n",
      "Training epoch 5: 100%|██████████| 1320/1320 [00:57<00:00, 23.15it/s]\n",
      "Training epoch 6: 100%|██████████| 1320/1320 [00:56<00:00, 23.21it/s]\n",
      "Training epoch 7: 100%|██████████| 1320/1320 [00:57<00:00, 23.13it/s]\n",
      "Training epoch 8: 100%|██████████| 1320/1320 [00:57<00:00, 23.05it/s]\n",
      "Training epoch 9: 100%|██████████| 1320/1320 [00:56<00:00, 23.17it/s]\n",
      "Training epoch 10: 100%|██████████| 1320/1320 [00:58<00:00, 22.56it/s]\n",
      "Training epoch 11: 100%|██████████| 1320/1320 [00:58<00:00, 22.63it/s]\n",
      "Training epoch 12: 100%|██████████| 1320/1320 [00:57<00:00, 22.78it/s]\n",
      "Training epoch 13: 100%|██████████| 1320/1320 [00:58<00:00, 22.65it/s]\n",
      "Training epoch 14: 100%|██████████| 1320/1320 [00:58<00:00, 22.42it/s]\n",
      "Training epoch 15: 100%|██████████| 1320/1320 [00:58<00:00, 22.66it/s]\n",
      "Training epoch 16: 100%|██████████| 1320/1320 [01:00<00:00, 21.71it/s]\n",
      "Training epoch 17: 100%|██████████| 1320/1320 [00:57<00:00, 23.00it/s]\n",
      "Training epoch 18: 100%|██████████| 1320/1320 [00:57<00:00, 23.04it/s]\n",
      "Training epoch 19: 100%|██████████| 1320/1320 [06:56<00:00,  3.17it/s]\n",
      "Training epoch 20: 100%|██████████| 1320/1320 [02:34<00:00,  8.52it/s]\n",
      "Training epoch 21: 100%|██████████| 1320/1320 [57:46<00:00,  2.63s/it]   \n",
      "Training epoch 22: 100%|██████████| 1320/1320 [01:01<00:00, 21.52it/s]\n",
      "Training epoch 23: 100%|██████████| 1320/1320 [00:58<00:00, 22.52it/s]\n",
      "Training epoch 24: 100%|██████████| 1320/1320 [00:58<00:00, 22.68it/s]\n",
      "Training epoch 25: 100%|██████████| 1320/1320 [00:58<00:00, 22.40it/s]\n",
      "Training epoch 26: 100%|██████████| 1320/1320 [01:00<00:00, 21.80it/s]\n",
      "Training epoch 27: 100%|██████████| 1320/1320 [01:09<00:00, 18.95it/s]\n",
      "Training epoch 28: 100%|██████████| 1320/1320 [01:14<00:00, 17.65it/s]\n",
      "Training epoch 29: 100%|██████████| 1320/1320 [01:12<00:00, 18.23it/s]\n",
      "Training epoch 30: 100%|██████████| 1320/1320 [01:02<00:00, 21.19it/s]\n",
      "Training epoch 31: 100%|██████████| 1320/1320 [00:59<00:00, 22.01it/s]\n",
      "Training epoch 32: 100%|██████████| 1320/1320 [00:58<00:00, 22.57it/s]\n",
      "Training epoch 33: 100%|██████████| 1320/1320 [00:57<00:00, 22.81it/s]\n",
      "Training epoch 34: 100%|██████████| 1320/1320 [00:58<00:00, 22.64it/s]\n",
      "Training epoch 35: 100%|██████████| 1320/1320 [00:58<00:00, 22.48it/s]\n",
      "Training epoch 36: 100%|██████████| 1320/1320 [00:59<00:00, 22.04it/s]\n",
      "Training epoch 37: 100%|██████████| 1320/1320 [00:59<00:00, 22.10it/s]\n",
      "Training epoch 38: 100%|██████████| 1320/1320 [00:59<00:00, 22.00it/s]\n",
      "Training epoch 39: 100%|██████████| 1320/1320 [00:58<00:00, 22.70it/s]\n",
      "Training epoch 40: 100%|██████████| 1320/1320 [00:58<00:00, 22.73it/s]\n",
      "Training epoch 41: 100%|██████████| 1320/1320 [00:57<00:00, 22.84it/s]\n",
      "Training epoch 42: 100%|██████████| 1320/1320 [00:58<00:00, 22.54it/s]\n",
      "Training epoch 43: 100%|██████████| 1320/1320 [00:58<00:00, 22.50it/s]\n",
      "Training epoch 44: 100%|██████████| 1320/1320 [00:58<00:00, 22.67it/s]\n",
      "Training epoch 45: 100%|██████████| 1320/1320 [00:57<00:00, 22.99it/s]\n",
      "Training epoch 46: 100%|██████████| 1320/1320 [00:57<00:00, 22.85it/s]\n",
      "Training epoch 47: 100%|██████████| 1320/1320 [00:57<00:00, 22.82it/s]\n",
      "Training epoch 48: 100%|██████████| 1320/1320 [00:58<00:00, 22.69it/s]\n",
      "Training epoch 49: 100%|██████████| 1320/1320 [00:57<00:00, 22.82it/s]\n",
      "Training epoch 50: 100%|██████████| 1320/1320 [00:57<00:00, 22.78it/s]\n"
     ]
    }
   ],
   "source": [
    "from tqdm import tqdm\n",
    "\n",
    "num_epochs = 50\n",
    "block_size = 256\n",
    "d_model = 256\n",
    "n_heads = 4\n",
    "n_layers = 4\n",
    "lr = 1e-4\n",
    "device = \"cuda\" if torch.cuda.is_available() else \"mps\" if torch.backends.mps.is_available() else \"cpu\"\n",
    "model = GPT(tokenizer.vocab_size, d_model, n_heads, n_layers, block_size).to(device)\n",
    "optim = torch.optim.Adam(model.parameters(), lr=lr)\n",
    "\n",
    "for epoch in range(num_epochs):\n",
    "    for batch in tqdm(get_batch(text, block_size), desc=f\"Training epoch {epoch+1}\", total=len(tokenizer.encode(text))//block_size):\n",
    "        x, y = torch.tensor(batch[0]).unsqueeze(0).to(device), torch.tensor(batch[1]).unsqueeze(0).to(device)\n",
    "        logits, loss = model(x, y)\n",
    "        optim.zero_grad()\n",
    "        loss.backward()\n",
    "        optim.step()"
   ]
  },
  {
   "cell_type": "code",
   "execution_count": 17,
   "metadata": {},
   "outputs": [
    {
     "name": "stdout",
     "output_type": "stream",
     "text": [
      "PROPSERO:\n",
      "Sir when she know, if the more of Juliet's, good lord so thou\n",
      "Of thy father'st prev more than it like of holy\n",
      "First goodness:\n",
      "O no thought\n",
      "But from the bestOLANDA:\n",
      "We'll draw,\n",
      "To those\n",
      "Was ever What.\n",
      "What dogs.\n",
      "She eat'd themselves and upon my ghost in his beard?\n",
      "\n",
      "VIRGILIA:\n",
      "Than to watch:\n",
      "Come on his poor father? what thou\n"
     ]
    }
   ],
   "source": [
    "context = \"PROPSERO:\" # None | str: \"The quick brown fox jumps over the lazy dog\"\n",
    "if context:\n",
    "    x = torch.tensor(tokenizer.encode(context)).unsqueeze(0).to(device)\n",
    "else:\n",
    "    x = torch.zeros((1, 1), dtype=torch.long).to(device)\n",
    "output = model.generate(x, deterministic=False)\n",
    "print(tokenizer.decode(output[0].tolist()))"
   ]
  },
  {
   "cell_type": "code",
   "execution_count": null,
   "metadata": {},
   "outputs": [],
   "source": []
  }
 ],
 "metadata": {
  "kernelspec": {
   "display_name": "start-code",
   "language": "python",
   "name": "python3"
  },
  "language_info": {
   "codemirror_mode": {
    "name": "ipython",
    "version": 3
   },
   "file_extension": ".py",
   "mimetype": "text/x-python",
   "name": "python",
   "nbconvert_exporter": "python",
   "pygments_lexer": "ipython3",
   "version": "3.10.0"
  }
 },
 "nbformat": 4,
 "nbformat_minor": 2
}
