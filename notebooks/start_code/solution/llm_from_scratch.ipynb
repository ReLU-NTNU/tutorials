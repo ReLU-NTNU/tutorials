{
 "cells": [
  {
   "cell_type": "code",
   "execution_count": 1,
   "metadata": {},
   "outputs": [],
   "source": [
    "import torch\n",
    "import torch.nn as nn\n",
    "import torch.nn.functional as F\n",
    "import torch.optim as optim"
   ]
  },
  {
   "cell_type": "markdown",
   "metadata": {},
   "source": [
    "<h2> Word Embeddings </h2>"
   ]
  },
  {
   "cell_type": "code",
   "execution_count": null,
   "metadata": {},
   "outputs": [],
   "source": []
  },
  {
   "cell_type": "markdown",
   "metadata": {},
   "source": [
    "<h2> Tokenization </h2>"
   ]
  },
  {
   "cell_type": "markdown",
   "metadata": {},
   "source": [
    "### Standard tokenizer"
   ]
  },
  {
   "cell_type": "code",
   "execution_count": 2,
   "metadata": {},
   "outputs": [
    {
     "name": "stdout",
     "output_type": "stream",
     "text": [
      "['a', 'am', 'brown', 'doctor', 'dog', 'fox', 'i', 'jumps', 'lazy', 'over', 'programmer', 'quick', 'student', 'teacher', 'the']\n",
      "[[6, 1, 0, 12, 15, 15, 15, 15, 15], [6, 1, 0, 13, 15, 15, 15, 15, 15], [6, 1, 0, 3, 15, 15, 15, 15, 15], [6, 1, 0, 10, 15, 15, 15, 15, 15], [14, 11, 2, 5, 7, 9, 14, 8, 4]]\n",
      "9 [9, 9, 9, 9, 9]\n"
     ]
    }
   ],
   "source": [
    "class Tokenizer:\n",
    "\n",
    "    def __init__(self):\n",
    "\n",
    "        self.vocab = None\n",
    "        self.max_len = None\n",
    "        self.vocab_size = None\n",
    "\n",
    "    def preprocess(self, text):\n",
    "\n",
    "        # remove all non alphabetic characters\n",
    "        text = ''.join(e for e in text if e.isalnum() or e.isspace())\n",
    "\n",
    "        # convert to lowercase\n",
    "        text = text.lower()\n",
    "\n",
    "        return text\n",
    "\n",
    "    def generate_vocab(self, texts):\n",
    "\n",
    "        text_preprocessed = [self.preprocess(text) for text in texts]\n",
    "\n",
    "        self.max_len = max([len(seq.split()) for seq in text_preprocessed])\n",
    "\n",
    "        words = \" \".join(text_preprocessed).split()\n",
    "\n",
    "        vocab = list(set(words))\n",
    "\n",
    "        vocab.sort()\n",
    "\n",
    "        self.vocab = vocab\n",
    "\n",
    "        self.vocab_size = len(self.vocab) + 1\n",
    "    \n",
    "    def tokenize(self, texts):\n",
    "\n",
    "        total_tokens = []\n",
    "\n",
    "        for text in texts:\n",
    "    \n",
    "            text_preprocessed = self.preprocess(text)\n",
    "\n",
    "            words = text_preprocessed.split()\n",
    "\n",
    "            tokens = []\n",
    "\n",
    "            for word in words:\n",
    "                tokens.append(self.vocab.index(word))\n",
    "            \n",
    "            tokens += [self.vocab_size-1 for _ in range(self.max_len - len(tokens))]\n",
    "\n",
    "            total_tokens.append(tokens)\n",
    "\n",
    "        return total_tokens\n",
    "\n",
    "texts = [\n",
    "    \"I am a student\", \n",
    "    \"I am a teacher\", \n",
    "    \"I am a doctor\", \n",
    "    \"I am a programmer\", \n",
    "    \"The quick brown fox jumps over the lazy dog\"\n",
    "]\n",
    "\n",
    "tokenizer = Tokenizer()\n",
    "\n",
    "tokenizer.generate_vocab(texts)\n",
    "\n",
    "print(tokenizer.vocab)\n",
    "\n",
    "tokens = tokenizer.tokenize(texts)\n",
    "\n",
    "print(tokens)\n",
    "\n",
    "print(tokenizer.max_len, [len(t) for t in tokens])"
   ]
  },
  {
   "cell_type": "markdown",
   "metadata": {},
   "source": [
    "### Character level encoder"
   ]
  },
  {
   "cell_type": "code",
   "execution_count": 31,
   "metadata": {},
   "outputs": [
    {
     "name": "stdout",
     "output_type": "stream",
     "text": [
      "[1, 9, 6, 0, 18, 22, 10, 4, 12, 0, 3, 19, 16, 24, 15, 0, 7, 16, 25, 0, 11, 22, 14, 17, 20, 0, 16, 23, 6, 19, 0, 21, 9, 6, 0, 13, 2, 27, 26, 0, 5, 16, 8]\n",
      "The quick brown fox jumps over the lazy dog\n"
     ]
    }
   ],
   "source": [
    "class CharacterTokenizer:\n",
    "\n",
    "    def __init__(self, text):\n",
    "        self.vocab = sorted(list(set(text)))\n",
    "        self.vocab_size = len(self.vocab)\n",
    "        self.char_to_index = {char: i for i, char in enumerate(self.vocab)}\n",
    "        self.index_to_char = {i: char for i, char in enumerate(self.vocab)}\n",
    "\n",
    "    def encode(self, text):\n",
    "        return [self.char_to_index[char] for char in text]\n",
    "    \n",
    "    def decode(self, encoded_text):\n",
    "        return \"\".join([self.index_to_char[i] for i in encoded_text])\n",
    "    \n",
    "text = \"The quick brown fox jumps over the lazy dog\"\n",
    "tokenizer = CharacterTokenizer(text)\n",
    "encoded_text = tokenizer.encode(text)\n",
    "print(encoded_text)\n",
    "decoded_text = tokenizer.decode(encoded_text)\n",
    "print(decoded_text)\n",
    "assert text == decoded_text, \"Error: decoded text is not the same as the original text\""
   ]
  },
  {
   "cell_type": "markdown",
   "metadata": {},
   "source": [
    "<h2> Embedding Layer </h2>"
   ]
  },
  {
   "cell_type": "code",
   "execution_count": 3,
   "metadata": {},
   "outputs": [
    {
     "name": "stdout",
     "output_type": "stream",
     "text": [
      "16\n",
      "[[6, 1, 0, 12, 15, 15, 15, 15, 15], [6, 1, 0, 13, 15, 15, 15, 15, 15], [6, 1, 0, 3, 15, 15, 15, 15, 15], [6, 1, 0, 10, 15, 15, 15, 15, 15], [14, 11, 2, 5, 7, 9, 14, 8, 4]]\n",
      "torch.Size([5, 9, 10])\n",
      "tensor([[[-1.0304, -0.6306, -0.3745, -0.0424, -0.3442, -1.1487, -1.2837,\n",
      "          -0.9136,  0.1740,  0.2564],\n",
      "         [ 0.2923, -0.1173, -0.2187,  0.3942,  0.1204, -1.7418,  0.2152,\n",
      "          -0.2712,  0.5643,  0.3067],\n",
      "         [ 1.5491, -0.7142, -0.2190,  0.9998,  0.1721, -1.3855,  1.1591,\n",
      "           1.2405,  1.0196,  0.2970],\n",
      "         [ 1.2113,  0.9077, -1.1597,  0.6473, -0.6197,  2.3342, -1.0646,\n",
      "          -0.8589, -0.6293, -1.7637],\n",
      "         [ 1.0357,  0.8639,  0.6747,  0.7032,  0.1055,  0.6124,  0.1596,\n",
      "          -0.5449,  1.5960, -1.6241],\n",
      "         [ 1.0357,  0.8639,  0.6747,  0.7032,  0.1055,  0.6124,  0.1596,\n",
      "          -0.5449,  1.5960, -1.6241],\n",
      "         [ 1.0357,  0.8639,  0.6747,  0.7032,  0.1055,  0.6124,  0.1596,\n",
      "          -0.5449,  1.5960, -1.6241],\n",
      "         [ 1.0357,  0.8639,  0.6747,  0.7032,  0.1055,  0.6124,  0.1596,\n",
      "          -0.5449,  1.5960, -1.6241],\n",
      "         [ 1.0357,  0.8639,  0.6747,  0.7032,  0.1055,  0.6124,  0.1596,\n",
      "          -0.5449,  1.5960, -1.6241]],\n",
      "\n",
      "        [[-1.0304, -0.6306, -0.3745, -0.0424, -0.3442, -1.1487, -1.2837,\n",
      "          -0.9136,  0.1740,  0.2564],\n",
      "         [ 0.2923, -0.1173, -0.2187,  0.3942,  0.1204, -1.7418,  0.2152,\n",
      "          -0.2712,  0.5643,  0.3067],\n",
      "         [ 1.5491, -0.7142, -0.2190,  0.9998,  0.1721, -1.3855,  1.1591,\n",
      "           1.2405,  1.0196,  0.2970],\n",
      "         [ 0.9272,  0.8061,  0.6669, -0.5568, -0.2981,  0.6620, -2.9591,\n",
      "           0.7167, -0.0429, -0.9609],\n",
      "         [ 1.0357,  0.8639,  0.6747,  0.7032,  0.1055,  0.6124,  0.1596,\n",
      "          -0.5449,  1.5960, -1.6241],\n",
      "         [ 1.0357,  0.8639,  0.6747,  0.7032,  0.1055,  0.6124,  0.1596,\n",
      "          -0.5449,  1.5960, -1.6241],\n",
      "         [ 1.0357,  0.8639,  0.6747,  0.7032,  0.1055,  0.6124,  0.1596,\n",
      "          -0.5449,  1.5960, -1.6241],\n",
      "         [ 1.0357,  0.8639,  0.6747,  0.7032,  0.1055,  0.6124,  0.1596,\n",
      "          -0.5449,  1.5960, -1.6241],\n",
      "         [ 1.0357,  0.8639,  0.6747,  0.7032,  0.1055,  0.6124,  0.1596,\n",
      "          -0.5449,  1.5960, -1.6241]],\n",
      "\n",
      "        [[-1.0304, -0.6306, -0.3745, -0.0424, -0.3442, -1.1487, -1.2837,\n",
      "          -0.9136,  0.1740,  0.2564],\n",
      "         [ 0.2923, -0.1173, -0.2187,  0.3942,  0.1204, -1.7418,  0.2152,\n",
      "          -0.2712,  0.5643,  0.3067],\n",
      "         [ 1.5491, -0.7142, -0.2190,  0.9998,  0.1721, -1.3855,  1.1591,\n",
      "           1.2405,  1.0196,  0.2970],\n",
      "         [ 0.7333, -1.8835, -0.0912,  0.7174, -0.9385,  0.7804,  1.5367,\n",
      "          -0.5152,  0.5210,  0.6556],\n",
      "         [ 1.0357,  0.8639,  0.6747,  0.7032,  0.1055,  0.6124,  0.1596,\n",
      "          -0.5449,  1.5960, -1.6241],\n",
      "         [ 1.0357,  0.8639,  0.6747,  0.7032,  0.1055,  0.6124,  0.1596,\n",
      "          -0.5449,  1.5960, -1.6241],\n",
      "         [ 1.0357,  0.8639,  0.6747,  0.7032,  0.1055,  0.6124,  0.1596,\n",
      "          -0.5449,  1.5960, -1.6241],\n",
      "         [ 1.0357,  0.8639,  0.6747,  0.7032,  0.1055,  0.6124,  0.1596,\n",
      "          -0.5449,  1.5960, -1.6241],\n",
      "         [ 1.0357,  0.8639,  0.6747,  0.7032,  0.1055,  0.6124,  0.1596,\n",
      "          -0.5449,  1.5960, -1.6241]],\n",
      "\n",
      "        [[-1.0304, -0.6306, -0.3745, -0.0424, -0.3442, -1.1487, -1.2837,\n",
      "          -0.9136,  0.1740,  0.2564],\n",
      "         [ 0.2923, -0.1173, -0.2187,  0.3942,  0.1204, -1.7418,  0.2152,\n",
      "          -0.2712,  0.5643,  0.3067],\n",
      "         [ 1.5491, -0.7142, -0.2190,  0.9998,  0.1721, -1.3855,  1.1591,\n",
      "           1.2405,  1.0196,  0.2970],\n",
      "         [-0.4120,  0.7547,  0.1405,  0.6227, -0.6345, -0.9747,  0.3314,\n",
      "           1.3605, -1.1336,  0.0073],\n",
      "         [ 1.0357,  0.8639,  0.6747,  0.7032,  0.1055,  0.6124,  0.1596,\n",
      "          -0.5449,  1.5960, -1.6241],\n",
      "         [ 1.0357,  0.8639,  0.6747,  0.7032,  0.1055,  0.6124,  0.1596,\n",
      "          -0.5449,  1.5960, -1.6241],\n",
      "         [ 1.0357,  0.8639,  0.6747,  0.7032,  0.1055,  0.6124,  0.1596,\n",
      "          -0.5449,  1.5960, -1.6241],\n",
      "         [ 1.0357,  0.8639,  0.6747,  0.7032,  0.1055,  0.6124,  0.1596,\n",
      "          -0.5449,  1.5960, -1.6241],\n",
      "         [ 1.0357,  0.8639,  0.6747,  0.7032,  0.1055,  0.6124,  0.1596,\n",
      "          -0.5449,  1.5960, -1.6241]],\n",
      "\n",
      "        [[ 0.7521,  0.7656,  2.4646,  0.0403, -2.0477,  0.4234, -1.0386,\n",
      "          -1.8988,  0.7751, -1.1178],\n",
      "         [-0.8777,  0.2322,  2.4293,  0.2683,  1.1581, -0.3975,  0.0534,\n",
      "          -0.3734, -0.7237,  0.6707],\n",
      "         [-0.2385, -2.2262, -0.5629, -0.6812, -0.6234,  1.0049,  1.0678,\n",
      "           0.7461,  0.0902, -0.5436],\n",
      "         [-0.1342, -0.2247, -0.3699, -0.7621,  1.3980, -1.3633, -0.3245,\n",
      "           0.3182, -0.5697,  1.3303],\n",
      "         [ 2.3569, -0.0347, -1.3212, -1.4083,  0.0606, -1.5919, -1.5315,\n",
      "           0.6122,  0.4376, -0.1720],\n",
      "         [-0.3328, -0.4449, -0.0334, -0.2483, -1.0218,  0.3204, -0.8846,\n",
      "          -1.0779, -1.0460,  1.6584],\n",
      "         [ 0.7521,  0.7656,  2.4646,  0.0403, -2.0477,  0.4234, -1.0386,\n",
      "          -1.8988,  0.7751, -1.1178],\n",
      "         [-0.5545,  1.4693,  0.4896,  0.3298,  1.0965, -0.3740,  0.7776,\n",
      "          -0.2155, -0.4547,  1.3052],\n",
      "         [-1.4640,  0.6610, -0.9686, -0.9197, -0.8519,  0.7921, -1.3159,\n",
      "           1.7232, -1.1493, -0.3052]]], grad_fn=<EmbeddingBackward0>)\n"
     ]
    }
   ],
   "source": [
    "class EmbeddingLayer(nn.Module):\n",
    "\n",
    "    def __init__(self, vocab_size, embedding_dim):\n",
    "        super().__init__()\n",
    "\n",
    "        self.embedding = nn.Embedding(vocab_size, embedding_dim)\n",
    "\n",
    "    def forward(self, x):\n",
    "\n",
    "        return self.embedding(x)\n",
    "    \n",
    "\n",
    "embedding_dim = 10\n",
    "\n",
    "print(tokenizer.vocab_size)\n",
    "print(tokens)\n",
    "\n",
    "embedding_layer = EmbeddingLayer(tokenizer.vocab_size, embedding_dim)\n",
    "\n",
    "tokens = torch.Tensor(tokens).long()\n",
    "\n",
    "embeddings = embedding_layer(tokens)\n",
    "\n",
    "print(embeddings.shape)\n",
    "print(embeddings)"
   ]
  },
  {
   "cell_type": "markdown",
   "metadata": {},
   "source": [
    "<h2> The Attention Layer </h2>"
   ]
  },
  {
   "cell_type": "code",
   "execution_count": 4,
   "metadata": {},
   "outputs": [
    {
     "data": {
      "text/plain": [
       "(torch.Size([5, 9, 10]), torch.Size([5, 9, 10]))"
      ]
     },
     "execution_count": 4,
     "metadata": {},
     "output_type": "execute_result"
    }
   ],
   "source": [
    "class Attention(nn.Module):\n",
    "\n",
    "    def __init__(self, d_model, head_size):\n",
    "        super().__init__()\n",
    "        \n",
    "        self.d_model = d_model\n",
    "        self.linear = nn.Linear(d_model, 3 * head_size)\n",
    "\n",
    "    def forward(self, x):\n",
    "\n",
    "        q, k, v = self.linear(x).chunk(3, dim=-1)\n",
    "\n",
    "        # attn = softmax(Q K.T) V\n",
    "        attn = torch.einsum(\"bnd,bkd->bnk\", q, k)\n",
    "        attn = attn / (self.d_model ** 0.5)\n",
    "        attn = F.softmax(attn, dim=-1)\n",
    "        attn = attn @ v\n",
    "\n",
    "        return attn\n",
    "    \n",
    "\n",
    "attention_layer = Attention(embedding_dim, embedding_dim)\n",
    "attn_logits = attention_layer(embeddings)\n",
    "embeddings.shape, attn_logits.shape"
   ]
  },
  {
   "cell_type": "code",
   "execution_count": 5,
   "metadata": {},
   "outputs": [
    {
     "data": {
      "text/plain": [
       "torch.Size([8, 16, 32])"
      ]
     },
     "execution_count": 5,
     "metadata": {},
     "output_type": "execute_result"
    }
   ],
   "source": [
    "# naive implementation of multi-head attention\n",
    "\n",
    "class MultiHeadAttention(nn.Module):\n",
    "\n",
    "    def __init__(self, d_model, n_heads):\n",
    "        super().__init__()\n",
    "        assert d_model % n_heads == 0, \"d_model must be divisible by n_heads\"\n",
    "\n",
    "        self.n_heads = n_heads\n",
    "        self.d_model = d_model\n",
    "        self.head_size = d_model // n_heads\n",
    "\n",
    "        self.heads = nn.ModuleList([Attention(self.d_model, self.head_size) for _ in range(n_heads)])\n",
    "\n",
    "    def forward(self, x):\n",
    "        return torch.cat([head(x) for head in self.heads], dim=-1)\n",
    "    \n",
    "d_model = 32\n",
    "n_heads = 4\n",
    "seq_len = 16\n",
    "batch_size = 8\n",
    "shifted_x = torch.randn(batch_size, seq_len, d_model)\n",
    "multi_head_attn = MultiHeadAttention(d_model, n_heads)\n",
    "attn_logits = multi_head_attn(shifted_x)\n",
    "attn_logits.shape"
   ]
  },
  {
   "cell_type": "code",
   "execution_count": 6,
   "metadata": {},
   "outputs": [
    {
     "data": {
      "text/plain": [
       "torch.Size([8, 16, 32])"
      ]
     },
     "execution_count": 6,
     "metadata": {},
     "output_type": "execute_result"
    }
   ],
   "source": [
    "# faster implementation of multi-head attention\n",
    "\n",
    "class MultiHeadAttention(nn.Module):\n",
    "\n",
    "    def __init__(self, d_model, n_heads):\n",
    "        super().__init__()\n",
    "        assert d_model % n_heads == 0, \"d_model must be divisible by n_heads\"\n",
    "\n",
    "        self.n_heads = n_heads\n",
    "        self.d_model = d_model\n",
    "        self.head_size = d_model // n_heads\n",
    "\n",
    "        self.qkv = nn.Linear(d_model, 3*d_model)\n",
    "        self.fc = nn.Linear(d_model, d_model)\n",
    "\n",
    "    def forward(self, x):\n",
    "        batch_size, seq_len, _ = x.shape\n",
    "            \n",
    "        qkv = self.qkv(x)\n",
    "        qkv = qkv.view(batch_size, seq_len, self.n_heads, 3*self.head_size)\n",
    "        qkv = qkv.permute(0, 2, 1, 3) # batch, n_heads, seq_len, 3 * head_size\n",
    "        q, k, v = qkv.chunk(3, dim=-1) # batch, n_heads, seq_len, head_size\n",
    "\n",
    "        # attn = softmax(Q @ K.T) V\n",
    "        attn = torch.einsum(\"bhid,bhjd->bhij\", q, k)\n",
    "        attn /= self.head_size ** 0.5\n",
    "        attn = F.softmax(attn, dim=-1)\n",
    "        attn = attn @ v\n",
    "        attn = attn.permute(0, 2, 1, 3).contiguous()\n",
    "        attn = attn.reshape(batch_size, seq_len, -1)\n",
    "\n",
    "        return self.fc(attn)\n",
    "\n",
    "d_model = 32\n",
    "n_heads = 4\n",
    "seq_len = 16\n",
    "batch_size = 8\n",
    "shifted_x = torch.randn(batch_size, seq_len, d_model)\n",
    "multi_head_attn = MultiHeadAttention(d_model, n_heads)\n",
    "attn_logits = multi_head_attn(shifted_x)\n",
    "attn_logits.shape\n"
   ]
  },
  {
   "cell_type": "code",
   "execution_count": 7,
   "metadata": {},
   "outputs": [
    {
     "data": {
      "text/plain": [
       "torch.Size([8, 16, 32])"
      ]
     },
     "execution_count": 7,
     "metadata": {},
     "output_type": "execute_result"
    }
   ],
   "source": [
    "# faster implementation of multi-head attention w/masking\n",
    "\n",
    "class MultiHeadAttention(nn.Module):\n",
    "\n",
    "    def __init__(self, d_model, n_heads):\n",
    "        super().__init__()\n",
    "        assert d_model % n_heads == 0, \"d_model must be divisible by n_heads\"\n",
    "\n",
    "        self.n_heads = n_heads\n",
    "        self.d_model = d_model\n",
    "        self.head_size = d_model // n_heads\n",
    "\n",
    "        self.qkv = nn.Linear(d_model, 3*d_model)\n",
    "        self.fc = nn.Linear(d_model, d_model)\n",
    "\n",
    "    def forward(self, x):\n",
    "        batch_size, seq_len, _ = x.shape\n",
    "            \n",
    "        qkv = self.qkv(x)\n",
    "        qkv = qkv.view(batch_size, seq_len, self.n_heads, 3*self.head_size)\n",
    "        qkv = qkv.permute(0, 2, 1, 3) # batch, n_heads, seq_len, 3 * head_size\n",
    "        q, k, v = qkv.chunk(3, dim=-1) # batch, n_heads, seq_len, head_size\n",
    "\n",
    "        # attn = softmax(Q @ K.T) V\n",
    "        attn = torch.einsum(\"bhid,bhjd->bhij\", q, k)\n",
    "        attn /= self.head_size ** 0.5\n",
    "        mask = torch.full((seq_len, seq_len), float('-inf')).to(x.device)\n",
    "        mask = torch.triu(mask, diagonal=1)\n",
    "        attn = attn + mask\n",
    "        attn = F.softmax(attn, dim=-1)\n",
    "        attn = attn @ v\n",
    "        attn = attn.permute(0, 2, 1, 3).contiguous()\n",
    "        attn = attn.reshape(batch_size, seq_len, -1)\n",
    "\n",
    "        return self.fc(attn)\n",
    "\n",
    "d_model = 32\n",
    "n_heads = 4\n",
    "seq_len = 16\n",
    "batch_size = 8\n",
    "shifted_x = torch.randn(batch_size, seq_len, d_model)\n",
    "multi_head_attn = MultiHeadAttention(d_model, n_heads)\n",
    "attn_logits = multi_head_attn(shifted_x)\n",
    "attn_logits.shape"
   ]
  },
  {
   "cell_type": "code",
   "execution_count": 8,
   "metadata": {},
   "outputs": [],
   "source": [
    "class AttentionBlock(nn.Module):\n",
    "\n",
    "    def __init__(self, d_model, n_heads):\n",
    "        super().__init__()\n",
    "\n",
    "        self.attn = MultiHeadAttention(d_model, n_heads)\n",
    "        self.norm1 = nn.LayerNorm(d_model)\n",
    "        self.norm2 = nn.LayerNorm(d_model)\n",
    "        self.dropout = nn.Dropout(0.1)\n",
    "        self.mlp = nn.Sequential(\n",
    "            nn.Linear(d_model, 4*d_model),\n",
    "            nn.ReLU(),\n",
    "            nn.Linear(4*d_model, d_model)\n",
    "        )\n",
    "\n",
    "    def forward(self, x):\n",
    "        x = x + self.dropout(self.attn(self.norm1(x)))\n",
    "        x = x + self.mlp(self.norm2(x))\n",
    "        return x"
   ]
  },
  {
   "cell_type": "code",
   "execution_count": 9,
   "metadata": {},
   "outputs": [],
   "source": [
    "class Transformer(nn.Module):\n",
    "\n",
    "    def __init__(self, vocab_size, d_model, n_heads, n_layers, block_size):\n",
    "        super().__init__()\n",
    "\n",
    "        self.embedding = nn.Embedding(vocab_size, d_model)\n",
    "        self.pos_embedding = nn.Embedding(block_size, d_model)\n",
    "        self.attention_blocks = nn.Sequential(*[AttentionBlock(d_model, n_heads) for _ in range(n_layers)])\n",
    "        self.fc = nn.Linear(d_model, vocab_size)\n",
    "\n",
    "    def forward(self, x):\n",
    "        # x size: (batch_size, seq_len)\n",
    "        x = self.embedding(x) # (batch_size, seq_len, d_model)\n",
    "        x = x + self.pos_embedding(torch.arange(x.size(1), device=x.device))\n",
    "        x = self.attention_blocks(x)\n",
    "        return self.fc(x)"
   ]
  },
  {
   "cell_type": "code",
   "execution_count": 10,
   "metadata": {},
   "outputs": [],
   "source": [
    "class GPT(nn.Module):\n",
    "\n",
    "    def __init__(self, vocab_size, d_model, n_heads, n_layers, block_size):\n",
    "        super().__init__()\n",
    "\n",
    "        self.transformer = Transformer(vocab_size, d_model, n_heads, n_layers, block_size)\n",
    "        self.loss_fn = nn.CrossEntropyLoss()\n",
    "\n",
    "    def forward(self, x, targets=None):\n",
    "        logits = self.transformer(x)\n",
    "        loss = None\n",
    "        if targets is not None:\n",
    "            loss = self.loss_fn(logits.view(-1, logits.size(-1)), targets.view(-1))\n",
    "        return logits, loss\n",
    "\n",
    "    def generate(self, x, steps=100, deterministic=False):\n",
    "        for _ in range(steps):\n",
    "            logits = self.transformer(x)\n",
    "            if deterministic:\n",
    "                next_token = torch.argmax(logits[:, -1], dim=-1).unsqueeze(-1)\n",
    "            else:\n",
    "                next_token = torch.multinomial(F.softmax(logits[:, -1], dim=-1), num_samples=1)\n",
    "            x = torch.cat([x, next_token], dim=-1)\n",
    "        return x"
   ]
  },
  {
   "cell_type": "code",
   "execution_count": 11,
   "metadata": {},
   "outputs": [
    {
     "name": "stderr",
     "output_type": "stream",
     "text": [
      "/Users/oskarjor/miniconda3/envs/start-code/lib/python3.10/site-packages/tqdm/auto.py:21: TqdmWarning: IProgress not found. Please update jupyter and ipywidgets. See https://ipywidgets.readthedocs.io/en/stable/user_install.html\n",
      "  from .autonotebook import tqdm as notebook_tqdm\n"
     ]
    }
   ],
   "source": [
    "from transformers import AutoTokenizer\n",
    "\n",
    "tokenizer = AutoTokenizer.from_pretrained(\"gpt2\")"
   ]
  },
  {
   "cell_type": "code",
   "execution_count": 13,
   "metadata": {},
   "outputs": [],
   "source": [
    "with open(\"../data/input.txt\", \"r\") as f:\n",
    "    text = f.read()"
   ]
  },
  {
   "cell_type": "code",
   "execution_count": 14,
   "metadata": {},
   "outputs": [],
   "source": [
    "def get_batch(text, block_size):\n",
    "\n",
    "    tokens = tokenizer.encode(text)\n",
    "\n",
    "    for i in range(0, len(tokens) - block_size, block_size):\n",
    "        yield tokens[i:i+block_size], tokens[i+1:i+block_size+1]"
   ]
  },
  {
   "cell_type": "code",
   "execution_count": 16,
   "metadata": {},
   "outputs": [
    {
     "name": "stderr",
     "output_type": "stream",
     "text": [
      "Training epoch 1: 100%|██████████| 1320/1320 [01:02<00:00, 21.06it/s]\n",
      "Training epoch 2: 100%|██████████| 1320/1320 [01:00<00:00, 21.80it/s]\n",
      "Training epoch 3: 100%|██████████| 1320/1320 [01:01<00:00, 21.63it/s]\n",
      "Training epoch 4: 100%|██████████| 1320/1320 [01:01<00:00, 21.39it/s]\n",
      "Training epoch 5: 100%|██████████| 1320/1320 [01:01<00:00, 21.57it/s]\n"
     ]
    }
   ],
   "source": [
    "from tqdm import tqdm\n",
    "\n",
    "num_epochs = 5\n",
    "block_size = 256\n",
    "d_model = 256\n",
    "n_heads = 4\n",
    "n_layers = 4\n",
    "lr = 1e-4\n",
    "device = \"cuda\" if torch.cuda.is_available() else \"mps\" if torch.backends.mps.is_available() else \"cpu\"\n",
    "model = GPT(tokenizer.vocab_size, d_model, n_heads, n_layers, block_size).to(device)\n",
    "optim = torch.optim.Adam(model.parameters(), lr=lr)\n",
    "\n",
    "for epoch in range(num_epochs):\n",
    "    for batch in tqdm(get_batch(text, block_size), desc=f\"Training epoch {epoch+1}\", total=len(tokenizer.encode(text))//block_size):\n",
    "        x, y = torch.tensor(batch[0]).unsqueeze(0).to(device), torch.tensor(batch[1]).unsqueeze(0).to(device)\n",
    "        logits, loss = model(x, y)\n",
    "        optim.zero_grad()\n",
    "        loss.backward()\n",
    "        optim.step()"
   ]
  },
  {
   "cell_type": "code",
   "execution_count": 22,
   "metadata": {},
   "outputs": [
    {
     "name": "stderr",
     "output_type": "stream",
     "text": [
      "Training epoch 1: 100%|██████████| 1320/1320 [01:25<00:00, 15.47it/s]\n",
      "Training epoch 2: 100%|██████████| 1320/1320 [01:26<00:00, 15.17it/s]\n",
      "Training epoch 3: 100%|██████████| 1320/1320 [01:22<00:00, 15.90it/s]\n",
      "Training epoch 4: 100%|██████████| 1320/1320 [01:19<00:00, 16.61it/s]\n",
      "Training epoch 5: 100%|██████████| 1320/1320 [01:18<00:00, 16.74it/s]\n"
     ]
    }
   ],
   "source": [
    "for epoch in range(num_epochs):\n",
    "    for batch in tqdm(get_batch(text, block_size), desc=f\"Training epoch {epoch+1}\", total=len(tokenizer.encode(text))//block_size):\n",
    "        x, y = torch.tensor(batch[0]).unsqueeze(0).to(device), torch.tensor(batch[1]).unsqueeze(0).to(device)\n",
    "        logits, loss = model(x, y)\n",
    "        optim.zero_grad()\n",
    "        loss.backward()\n",
    "        optim.step()"
   ]
  },
  {
   "cell_type": "code",
   "execution_count": 21,
   "metadata": {},
   "outputs": [
    {
     "name": "stdout",
     "output_type": "stream",
     "text": [
      "PROPSERO:\n",
      "MIRAN.\n",
      "\n",
      "ANTONIO:\n",
      "Upon my throne; thou art how me.\n",
      "\n",
      "ANTONIO:\n",
      "But else had been any of chosen?\n",
      "\n",
      "ANTONZALO:\n",
      "He dies my royal traffic.'\n",
      "Is not change precious to begin\n",
      "And still of a sweat in the rough and cracks They are or else; he appeal: his formeraces\n",
      "shearing?\n",
      "\n",
      "MARIAN: thou doth your manners of day? I flatings\n"
     ]
    }
   ],
   "source": [
    "context = \"PROPSERO:\" # None | str: \"The quick brown fox jumps over the lazy dog\"\n",
    "if context:\n",
    "    x = torch.tensor(tokenizer.encode(context)).unsqueeze(0).to(device)\n",
    "else:\n",
    "    x = torch.zeros((1, 1), dtype=torch.long).to(device)\n",
    "output = model.generate(x, deterministic=False)\n",
    "print(tokenizer.decode(output[0].tolist()))"
   ]
  },
  {
   "cell_type": "code",
   "execution_count": null,
   "metadata": {},
   "outputs": [],
   "source": []
  }
 ],
 "metadata": {
  "kernelspec": {
   "display_name": "start-code",
   "language": "python",
   "name": "python3"
  },
  "language_info": {
   "codemirror_mode": {
    "name": "ipython",
    "version": 3
   },
   "file_extension": ".py",
   "mimetype": "text/x-python",
   "name": "python",
   "nbconvert_exporter": "python",
   "pygments_lexer": "ipython3",
   "version": "3.10.0"
  }
 },
 "nbformat": 4,
 "nbformat_minor": 2
}
